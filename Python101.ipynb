{
 "cells": [
  {
   "cell_type": "markdown",
   "metadata": {
    "slideshow": {
     "slide_type": "slide"
    }
   },
   "source": [
    "<figure>\n",
    "  <IMG SRC=\"https://upload.wikimedia.org/wikipedia/commons/thumb/d/d5/Fachhochschule_Südwestfalen_20xx_logo.svg/320px-Fachhochschule_Südwestfalen_20xx_logo.svg.png\" WIDTH=250 ALIGN=\"right\">\n",
    "</figure>\n",
    "\n",
    "# Python Crashkurs"
   ]
  },
  {
   "cell_type": "markdown",
   "metadata": {
    "slideshow": {
     "slide_type": "slide"
    }
   },
   "source": [
    "# Erste Schritte in Python"
   ]
  },
  {
   "cell_type": "markdown",
   "metadata": {
    "slideshow": {
     "slide_type": "slide"
    }
   },
   "source": [
    "## Variablen\n",
    "\n",
    "Python ist fundamental objektorientiert. Das heißt nicht nur, dass Sie in Python objektorientiert programmieren können. Es gilt auch der Leitsatz: *Alles in Python ist ein Objekt*. Also selbst grundlegende Datentypen wie `int`, `float` und `str`, sowie Funktionen sind Objekte. Daher sind Variablen in Python immer Referenzen auf Objekte. Strenggenommen müsste man also sagen, es gibt in **Python keine Variablen**.\n",
    "\n",
    "Weil der Begriff der *Variablen* aber so verbreitet ist - in den allermeisten Python Büchern wird von Variablen gesprochen - verwenden wir ihn auch an dieser Stelle. Wenn also im Folgenden von einer *Variablen* die Rede, ist immer eine Objektreferenz, bzw ein *Name für ein Objekt* gemeint.\n",
    "\n",
    "Wie viele andere Skriptprachen auch, ist Python dynamisch typisiert. Das bedeutet, dass Sie keine Typangaben bei der Definition einer Variablen angeben müssen. Python leitet automatisch den passenden Typ ab, bzw. es wählt den \"am besten passenden\" Typ aus.\n"
   ]
  },
  {
   "cell_type": "code",
   "execution_count": null,
   "metadata": {
    "slideshow": {
     "slide_type": "-"
    }
   },
   "outputs": [],
   "source": [
    "a = 42\n",
    "b = 1.23\n",
    "ab = 'Hallo'"
   ]
  },
  {
   "cell_type": "markdown",
   "metadata": {
    "slideshow": {
     "slide_type": "subslide"
    }
   },
   "source": [
    "Für Variablennamen gelten die Gleichen Regeln wie für die Bezeichner in C/C++. Variablen müssen mit einem Buchstaben oder Unterstrich beginnen und können sich ab dem 2. Zeichen aus einer beliebigen Folge von Buchstaben, Ziffern und Unterstrichen zusammensetzen.\n",
    "\n",
    "Es gibt allerdings einige Konventionen für die Wahl von Bezeichnern. So gelten Variablen, die mit 2 Unterstrichen beginnen als *privat*, Namen mit 2 Unterstrichen am Anfang und am Ende sind für spezielle Attribute und Methoden reserviert (\"*magic methods*\")."
   ]
  },
  {
   "cell_type": "markdown",
   "metadata": {
    "slideshow": {
     "slide_type": "fragment"
    }
   },
   "source": [
    "Die skalaren, also elementare oder nicht-zusammengesetzten Datentypen in Python sind:\n",
    "- `int` Ganze Zahlen\n",
    "- `float` Fließkommazahlen mit 64-bit Präzision\n",
    "- `complex` Komplexe Zahlen\n",
    "- `bool` Bool'scher Datentyp mit den Werten `True` und `False`\n",
    "- `NoneType` signalisiert das Nicht-Vorhandensein einer Referenz, ähnlich zu `NULL` oder `NIL` in anderen Sprachen\n",
    "\n",
    "Die Typen `str` für Zeichenketten sowie `bytes` für Folgen von 8-bit (vorzeichenlosen) Werten (zum Verarbeiten von Binärdaten) gehören zu den *Sequentiellen Datentypen*."
   ]
  },
  {
   "cell_type": "markdown",
   "metadata": {
    "slideshow": {
     "slide_type": "subslide"
    }
   },
   "source": [
    "## Zeichenketten\n",
    "Zeichenketten schreibt man in Python entweder in einzelne `''`, oder doppelte `\"\"` Anführungszeichen."
   ]
  },
  {
   "cell_type": "code",
   "execution_count": null,
   "metadata": {
    "slideshow": {
     "slide_type": "-"
    }
   },
   "outputs": [],
   "source": [
    "s0 = \"Hello, world \"\n",
    "s1 = 'Hello, world '\n",
    "print(s0)\n",
    "print(s1)"
   ]
  },
  {
   "cell_type": "markdown",
   "metadata": {
    "slideshow": {
     "slide_type": "subslide"
    }
   },
   "source": [
    "Dass man zwei Schreibweisen verwenden kann, hilft bei der Verwendung von Anführungszeichen in Stings.\n",
    "Wenn Sie z.B. doppelte Anführunszeichen im String verwenden wollen, benutzen Sie für den Python String einfache Anführungszeichen."
   ]
  },
  {
   "cell_type": "code",
   "execution_count": null,
   "metadata": {
    "slideshow": {
     "slide_type": "-"
    }
   },
   "outputs": [],
   "source": [
    "s2 = 'Die Zeichenkette \"Hello, world\"'\n",
    "print(s2)"
   ]
  },
  {
   "cell_type": "markdown",
   "metadata": {
    "slideshow": {
     "slide_type": "subslide"
    }
   },
   "source": [
    "Erst wenn Sie beide Arten von Anführungszeichen im Stingverwenden wollen, müssen Sie die Zeichen mit `\\` maskieren."
   ]
  },
  {
   "cell_type": "code",
   "execution_count": null,
   "metadata": {
    "slideshow": {
     "slide_type": "-"
    }
   },
   "outputs": [],
   "source": [
    "s2 = 'Das Zeichen \\'s\\' kommt im String  \"Hello, world\" nicht vor!'\n",
    "print(s2)"
   ]
  },
  {
   "cell_type": "markdown",
   "metadata": {
    "slideshow": {
     "slide_type": "subslide"
    }
   },
   "source": [
    "Zeichenketten kann man mit `+` aneinanderhängen und mit `*` wiederholen."
   ]
  },
  {
   "cell_type": "code",
   "execution_count": null,
   "metadata": {
    "slideshow": {
     "slide_type": "-"
    }
   },
   "outputs": [],
   "source": [
    "s2 = \"Hallo\"\n",
    "s0 = \"s0\"\n",
    "print(s0 + s0 + s2)\n",
    "print()\n",
    "print(s0 * 3)"
   ]
  },
  {
   "cell_type": "markdown",
   "metadata": {
    "slideshow": {
     "slide_type": "subslide"
    }
   },
   "source": [
    "Auf einzelne Zeichen greift man so zu, wie man es von Arrays her kennt."
   ]
  },
  {
   "cell_type": "code",
   "execution_count": null,
   "metadata": {
    "slideshow": {
     "slide_type": "-"
    }
   },
   "outputs": [],
   "source": [
    "print(s0[1])"
   ]
  },
  {
   "cell_type": "markdown",
   "metadata": {
    "slideshow": {
     "slide_type": "slide"
    }
   },
   "source": [
    "## Operationen\n",
    "\n",
    "Für die meisten Datentypen existieren die bekannten Operationen (`+`, `-`, `*`, `/`) mit der üblichen Bedeutung. Daneben gibt es noch den Operator `//`, für die ganzzahlige Division, den Modulo-Operator `%` und den Potenz-Operator `**`."
   ]
  },
  {
   "cell_type": "code",
   "execution_count": null,
   "metadata": {
    "slideshow": {
     "slide_type": "fragment"
    }
   },
   "outputs": [],
   "source": [
    "a = 2 + 1.23\n",
    "b = 22.2//3\n",
    "c = \"Hallo \" + \"Welt\"\n",
    "d = 2**8\n",
    "print(a, b, c, d)"
   ]
  },
  {
   "cell_type": "markdown",
   "metadata": {
    "slideshow": {
     "slide_type": "subslide"
    }
   },
   "source": [
    "Die `print` Funktion, wie oben verwendet, benötigt man ziemlich häufig.\n",
    "Ruft man sie mit einer (beliebigen) Folge von Parametern aus, so wird für jede Variable, entsprechend ihres Typs, eine passende *print* Methode aufgerufen. In Python heißt die Methode `__str__()`, sie entspricht in etwa der `toString()`-Methode aus Java.\n",
    "\n",
    "Um eine formatierte Ausgabe zu erhalten, kann man einen Format-String mit Platzhaltern angeben, ähnlich wie bei der `printf`-Funktion aus C. Über den Modulo-Operator können dann die Variablen angegeben werden, die an den Platzhaltern eingesetzt werden sollen.\n",
    "Für unser Beispiel oben sieht das dann z.B. so aus:"
   ]
  },
  {
   "cell_type": "code",
   "execution_count": null,
   "metadata": {
    "slideshow": {
     "slide_type": "fragment"
    }
   },
   "outputs": [],
   "source": [
    "print(\"a = %f, b = %d, c = %s, d = %s\" % (a, b, c, d))"
   ]
  },
  {
   "cell_type": "markdown",
   "metadata": {
    "slideshow": {
     "slide_type": "subslide"
    }
   },
   "source": [
    "Python ist stark typisiert. D.h., dass Variablen immer einen eindeutigen Typ haben und an keiner Stelle eine implizite Typumwandlung stattfinden kann. Jede Änderung des Typs erfordert eine explizite Typkonvertierung. Ein Ausdruck wie `\"Hallo\"+2` kann nicht ausgewertet werden, da die `+`-Operation für einen String und einen Integer nicht definiert ist.\n",
    "In diesem Fall kann man eine Typenwandlung, z.B. von `int` nach `str` vornehmen:"
   ]
  },
  {
   "cell_type": "code",
   "execution_count": null,
   "metadata": {
    "slideshow": {
     "slide_type": "-"
    }
   },
   "outputs": [],
   "source": [
    "\"Hallo\" + str(2)"
   ]
  },
  {
   "cell_type": "markdown",
   "metadata": {
    "slideshow": {
     "slide_type": "slide"
    }
   },
   "source": [
    "## Sequentielle Datentypen\n",
    "\n",
    "Unter sequenziellen Datentypen wird eine Klasse von Datentypen zusammengefasst, die Folgen von **gleichartigen oder verschiedenen Elementen** verwalten.\n",
    "In Listen und Tupel können beliebige Folgen von Daten abgelegt sein. Die gespeicherten Elemente haben eine definierte Reihenfolge und man kann über eindeutige Indizes auf sie zugreifen. Listen sind veränderbar, d.h., man kann einzelne Elemente  ändern, löschen oder hinzufügen. Tupel sind nicht veränderbar. Das bedeutet, bei jeder Änderung wird ein komplett neues Objekt mit den geänderten Elementen angelegt."
   ]
  },
  {
   "cell_type": "code",
   "execution_count": null,
   "metadata": {
    "slideshow": {
     "slide_type": "fragment"
    }
   },
   "outputs": [],
   "source": [
    "a = [3.23, 7.0, \"Hallo Welt\", 256]\n",
    "b = (3.23, 7.0, \"Hallo Welt\", 256)\n",
    "print(\"Liste a = %s\\nTupel b =%s\" % (a,b) )\n",
    "print(\"Das dritte Element von b ist \" + b[2])\n",
    "print(\"Gleiche Referenz? %s. Gleicher Inhalt? %s\" % (a == b, set(a)==set(b)))\n",
    "type(b)\n",
    "c"
   ]
  },
  {
   "cell_type": "markdown",
   "metadata": {
    "slideshow": {
     "slide_type": "subslide"
    }
   },
   "source": [
    "Das obige Beispiel bringt uns direkt zum nächsten Datentyp, den Mengen (oder engl. *sets*).\n",
    "Wie bei den Mengen aus der Mathematik kann ein set in Python jedes Objekt nur einmal enthalten.\n",
    "Wenn wir also aus der Liste [4,4,4,4,3,3,3,2,2,1] eine Menge machen, hat diese folgende Elemente:"
   ]
  },
  {
   "cell_type": "code",
   "execution_count": null,
   "metadata": {
    "slideshow": {
     "slide_type": "-"
    }
   },
   "outputs": [],
   "source": [
    "set([4,4,4,4,3,3,3,2,2,1])"
   ]
  },
  {
   "cell_type": "markdown",
   "metadata": {
    "slideshow": {
     "slide_type": "-"
    }
   },
   "source": [
    "Die Elemente tauchen nun nicht nur einmalig auf, sondern sie sind auch umsortiert worden.\n",
    "Man darf sich hier nicht täuschen lassen, die Elemente einer Menge sind immer unsortiert.\n",
    "D.h., man kann keine spezielle Sortierung erwarten, auch wenn die Ausgabe in manchen Fällen danach aussieht."
   ]
  },
  {
   "cell_type": "markdown",
   "metadata": {
    "slideshow": {
     "slide_type": "subslide"
    }
   },
   "source": [
    "Ein weitere sequentieller Datentyp sind Dictionaries (die deutsche Übersetzung *Wörterbücher* passt hier nicht so gut).\n",
    "Diectionaries sind eine Menge von *Schlüssel-Wert-Paaren*.\n",
    "Das bedeutet, dass jeder Wert im Dictionary unter einem frei wählbaren Schlüssel abgelegt ist, und auch über diesen Schlüssel zugegriffen werden kann."
   ]
  },
  {
   "cell_type": "code",
   "execution_count": null,
   "metadata": {
    "slideshow": {
     "slide_type": "-"
    }
   },
   "outputs": [],
   "source": [
    "haupstaedte = {\"DE\" : \"Berlin\", \"FR\" : \"Paris\", \"US\" : \"Washington\", \"CH\" : \"Zurich\"}\n",
    "print(haupstaedte[\"FR\"])\n",
    "haupstaedte[\"US\"] = \"Washington, D.C.\"\n",
    "print(haupstaedte[\"US\"])"
   ]
  },
  {
   "cell_type": "markdown",
   "metadata": {
    "slideshow": {
     "slide_type": "slide"
    }
   },
   "source": [
    "## Funktionen \n",
    "\n",
    "Funktionen in Python werden über das Schlüsselwort `def` definiert. Die Syntax einer Funktions-Definition sieht folgendermaßen aus:\n",
    "\n",
    "```python\n",
    "def myfunc(arg1, arg2,... argN):  \n",
    "  '''Dokumentation'''  \n",
    "\n",
    "  #Programmcode  \n",
    "\n",
    "  return <Rückgabewert>  \n",
    "```\n",
    "\n",
    "Hier wird die Funktion \"myfunc\" definiert, welche mit den Parametern \"arg1,arg2,....argN\" aufgerufen werden kann.\n",
    "\n",
    "Wir sehen hier auch ein weiteres Konzept von Python, das wir bisher noch nicht angesprochen haben. Die Strukturierung von Code in Blöcke erfolgt über **Einrückungen**.\n",
    "Für eine Funktion bedeutet das, dass der Code des Funktionskörpers um eine Stufe gegenüber der Funktionsdefinition eingerückt sein muss. Wenn der Funktionskörper weitere Kontrollstrukturen enthält, z.B. Schleifen oder Bedingungen, sind weitere Einrückungen nötig. Betrachten Sie folgendes Beispiel:"
   ]
  },
  {
   "cell_type": "code",
   "execution_count": null,
   "metadata": {
    "slideshow": {
     "slide_type": "subslide"
    }
   },
   "outputs": [],
   "source": [
    "def gib_was_aus():\n",
    "    print(\"Eins\")\n",
    "    print(\"Zwei\")\n",
    "print(\"Drei\")\n",
    "gib_was_aus()"
   ]
  },
  {
   "cell_type": "markdown",
   "metadata": {
    "slideshow": {
     "slide_type": "-"
    }
   },
   "source": [
    "Hier wird zuerst eine Funktion `gib_was_aus` definiert. Die Anweisung `print(\"Drei\")` ist nicht mehr eingerückt, gehört daher nicht mehr zur Funktion."
   ]
  },
  {
   "cell_type": "markdown",
   "metadata": {
    "slideshow": {
     "slide_type": "subslide"
    }
   },
   "source": [
    "Funktionen können fast überall definiert sein, also z.B. auch innerhalb von anderen Funktionen.\n",
    "Rückgaben erfolgen, wie auch in anderen Programmiersprachen üblich mit den Schlüsselwort `return`.\n",
    "Falls mehrere Elemente zurückgegeben werden sollen, können diese z.B. in ein Tupel gepackt werden:"
   ]
  },
  {
   "cell_type": "code",
   "execution_count": null,
   "metadata": {
    "slideshow": {
     "slide_type": "-"
    }
   },
   "outputs": [],
   "source": [
    "def inc(a, b, c):\n",
    "    return a+1, b+1, c+\"B\"\n",
    "a=b=1\n",
    "c=\"A\"\n",
    "a,*x = inc(a,b,c)\n",
    "d = inc(a,b,c)\n",
    "print(a,b)\n",
    "print(x)"
   ]
  },
  {
   "cell_type": "markdown",
   "metadata": {
    "slideshow": {
     "slide_type": "subslide"
    }
   },
   "source": [
    "## Verzweigungen\n",
    "\n",
    "Wir haben bisher noch keine Kontrollstrukturen, also Verzweigungen oder Schleifen angesprochen.\n",
    "Eine Bedingung oder Verzweigung funktioniert in Python (wie üblich) über ein `if`-`else`-Konstrukt.\n",
    "Auch hier werden zur Strukturierung der Blöcke Einrückungen benutzt."
   ]
  },
  {
   "cell_type": "code",
   "execution_count": null,
   "metadata": {
    "slideshow": {
     "slide_type": "-"
    }
   },
   "outputs": [],
   "source": [
    "a=2\n",
    "if a==0:\n",
    "    print(\"a ist Null\")\n",
    "else:\n",
    "    print(\"a ist nicht Null\")\n"
   ]
  },
  {
   "cell_type": "markdown",
   "metadata": {
    "slideshow": {
     "slide_type": "subslide"
    }
   },
   "source": [
    "Um tiefe Verschachtelungen zu vermeiden, gibt es noch eine `elif`-Anweisung:"
   ]
  },
  {
   "cell_type": "code",
   "execution_count": null,
   "metadata": {
    "slideshow": {
     "slide_type": "-"
    }
   },
   "outputs": [],
   "source": [
    "a=2\n",
    "if a<0:\n",
    "    print(\"a ist negativ\")\n",
    "elif a>0:\n",
    "    print(\"a ist positiv\")\n",
    "else:\n",
    "    print(\"a ist Null\")"
   ]
  },
  {
   "cell_type": "markdown",
   "metadata": {
    "slideshow": {
     "slide_type": "slide"
    }
   },
   "source": [
    "## Schleifen\n",
    "\n",
    "In Python gibt es die Schleifentypen, `while` und `for`, wobei letztere eine etwas ungewöhnliche Syntax hat.\n",
    "Die `while`-Schleife hingegen wird wie in vielen bekannten Programmiersprachen benutzt:"
   ]
  },
  {
   "cell_type": "code",
   "execution_count": null,
   "metadata": {
    "slideshow": {
     "slide_type": "-"
    }
   },
   "outputs": [],
   "source": [
    "i = 5\n",
    "while i>0:\n",
    "    print(i)\n",
    "    i -= 2"
   ]
  },
  {
   "cell_type": "markdown",
   "metadata": {
    "slideshow": {
     "slide_type": "subslide"
    }
   },
   "source": [
    "Anders als z.B. in C/C++ oder Java läuft eine `for`-Schleife in Python nicht über eine Zählvariable, sondern über *die Elemente eines iterierbaren Datentyps*.\n",
    "Einige Beispiele für iterierbaren Datentypen haben wir schon als sequentielle Datentypen kennengelernt.\n",
    "Wir können z.B. mit einer `for`-Schleife alle Elemente eines Dictionaries besuchen:"
   ]
  },
  {
   "cell_type": "code",
   "execution_count": null,
   "metadata": {
    "slideshow": {
     "slide_type": "-"
    }
   },
   "outputs": [],
   "source": [
    "haupstaedte = {\"DE\" : \"Berlin\", \"FR\" : \"Paris\", \"US\" : \"Washington\", \"CH\" : \"Zurich\"}\n",
    "for s in haupstaedte:\n",
    "    print(haupstaedte[s])"
   ]
  },
  {
   "cell_type": "markdown",
   "metadata": {
    "slideshow": {
     "slide_type": "slide"
    }
   },
   "source": [
    "Wir sehen, dass die Laufvariable hier alle Schlüssel des Dictionaries annimmt. Bei einer Liste wird über alle Werte iteriert:"
   ]
  },
  {
   "cell_type": "code",
   "execution_count": null,
   "metadata": {
    "slideshow": {
     "slide_type": "-"
    }
   },
   "outputs": [],
   "source": [
    "a = [3.23, 7.0, \"Hallo Welt\", 256]\n",
    "for s in a:\n",
    "    print(s)"
   ]
  },
  {
   "cell_type": "markdown",
   "metadata": {
    "slideshow": {
     "slide_type": "subslide"
    }
   },
   "source": [
    "Neben den sequentiellen Datentypen liefern noch sogenannte **Generatoren** Folgen von Werten die iterierbar sind. Der bekannteste Iterator ist `range()`.\n",
    "`range` kann mehrere Argumente haben. Ist nur ein Argument `E` angegeben, so läuft der Iterator von 0 bis `E-1`.\n",
    "`range(S, E)` läuft von S bis `E-1`, und `range(S, E, K)` läuft von S bis `E-1` mit der Schrittweite `K`"
   ]
  },
  {
   "cell_type": "code",
   "execution_count": null,
   "metadata": {
    "slideshow": {
     "slide_type": "fragment"
    }
   },
   "outputs": [],
   "source": [
    "print(\"Ein Parameter:\", end=\" \")\n",
    "for s in range(5): print(s, end=\" \")\n",
    "\n",
    "print(\"\\nZwei Parameter:\", end=\" \")\n",
    "for s in range(2,5): print(s, end=\" \")\n",
    "\n",
    "print(\"\\nDrei Parameter:\", end=\" \")\n",
    "for s in range(0,5,2): print(s, end=\" \")"
   ]
  },
  {
   "cell_type": "markdown",
   "metadata": {
    "slideshow": {
     "slide_type": "fragment"
    }
   },
   "source": [
    "Das zusätzliche Argument `end=\" \"` in den `print`-Anweisungen oben verhindert übrigens einen Zeilenumbruch.\n",
    "Ohne diesen Parameter würden alle Werte in einer Spalter untereinander ausgegeben."
   ]
  },
  {
   "cell_type": "markdown",
   "metadata": {
    "slideshow": {
     "slide_type": "skip"
    }
   },
   "source": [
    "Damit endet unser erster *Crash Kurs* zum Thema Python. Sie haben nun die wichtigsten Elemente der Python-Syntax gesehen.\n",
    "Natürlich zeigen die Beispiele aber nur einen kleinen Ausschnitt, die Sprache ist noch deutlich umfangreicher und viele Konzepte, wie z.B. Klassen und Module, haben wir noch nicht einmal angesprochen.\n",
    "\n",
    "Am besten Sie probieren Python einfach mal aus, indem Sie bestehende Beispiele übernehmen und verändern.\n",
    "Die Python Notebooks sind eine ideale Umgebung dafür.\n",
    "Sie können in den Code-Zellen Programmcode einfach ausprobieren.\n",
    "In den Markdown-Zellen können Sie sich Notizen machen, um Ihren Code zu dokumentieren oder ihre Schritte zu beschreiben."
   ]
  },
  {
   "cell_type": "markdown",
   "metadata": {
    "slideshow": {
     "slide_type": "slide"
    }
   },
   "source": [
    "# Datentypen"
   ]
  },
  {
   "cell_type": "markdown",
   "metadata": {
    "slideshow": {
     "slide_type": "slide"
    }
   },
   "source": [
    "### Der NoneType\n",
    "\n",
    "Vermutlich kennen Sie folgende Situation bereits von anderen Programmiersprachen: Bei der Programmierung möchten Sie gelegentlich ausdrücken möchte, dass etwas **nicht** existiert, bzw. dass eine Referenz auf ein Objekt nicht initialisiert ist.\n",
    "\n",
    "Referenzen (und Pointer) sind Verweise auf Objekte.\n",
    "\n",
    "Wenn nun die Referenz existiert, nicht aber das Objekt auf das sie verweisen soll, so gibt man der Referenz einen ganz speziellen *Null*-Wert.\n",
    "\n",
    "Bei den Zeigern in C/C++ ist das die Adresse mit dem Wert 0 (`NULL`), in Java die `null`-Referenz.\n",
    "\n",
    "Auch in Python gibt es eine solche Referenz.\n",
    "Sie hat den Wert (bzw. den Namen) `None` und ist selbst vom Typ `NoneType`."
   ]
  },
  {
   "cell_type": "code",
   "execution_count": null,
   "metadata": {
    "slideshow": {
     "slide_type": "subslide"
    }
   },
   "outputs": [],
   "source": [
    "def returnNone():\n",
    "    return\n",
    "\n",
    "x = returnNone()\n",
    "print(x, type(x))"
   ]
  },
  {
   "cell_type": "markdown",
   "metadata": {
    "slideshow": {
     "slide_type": "slide"
    }
   },
   "source": [
    "### Operatoren\n",
    "\n",
    "Die wichtigsten Operatoren haben wir bereits im letzten Arbeitsblatt kennengelernt. Für alle elementaren Datentypen und auch die zusammengesetzten Datentypen sind verschiedenen Operatoren definiert.\n",
    "Bei numerischen Ausdrücken haben die Operationen (`+`, `-`, `*`, `/`) ihre übliche Bedeutung.\n",
    "\n",
    "Der Operator `//` berechnet die ganzzahlige Division zweier Zahlen, der Modulo-Operator `%` den ganzzahligen Rest einer Integer Division.\n",
    "\n",
    "Dazu gibt es noch den Potenz-Operator `**`.\n",
    "\n",
    "Für den ganzzahligen Datentyp int sind zusätzlich Bit-Operationen definiert. Dies sind das bitweise AND (`&`), OR (`|`) und XOR (`^`) sowie das Bit-Komplement (`~x`) einer Zahl `x`. Auch Bit-Verschiebungen (bit shifts) sind mit den Operatoren `<<` (shift links) und `>>` (shift rechts) möglich."
   ]
  },
  {
   "cell_type": "code",
   "execution_count": null,
   "metadata": {
    "slideshow": {
     "slide_type": "fragment"
    }
   },
   "outputs": [],
   "source": [
    "3 << 3"
   ]
  },
  {
   "cell_type": "markdown",
   "metadata": {
    "slideshow": {
     "slide_type": "subslide"
    }
   },
   "source": [
    "Operatoren sind auch für nicht-arithmetische Datentypen, wie etwa `str` (String) oder zusammengesetzte Datentypen wie Tupel oder Listen definiert.\n",
    "\n",
    "Eine Konkatenation von Strings mit dem Operator `+` haben wir bereits gesehen.\n",
    "\n",
    "Mit den `*`-Operator kann man Strings zusätzlich multiplizieren."
   ]
  },
  {
   "cell_type": "code",
   "execution_count": null,
   "metadata": {
    "slideshow": {
     "slide_type": "fragment"
    }
   },
   "outputs": [],
   "source": [
    "print(\"Blah \"*3)"
   ]
  },
  {
   "cell_type": "markdown",
   "metadata": {
    "slideshow": {
     "slide_type": "subslide"
    }
   },
   "source": [
    "Als Vergleichsoperatoren stehen `==` (gleich), `!=` (ungleich), `<` (kleiner), `>` (größer), `<=` (kleiner oder gleich) und `>=` (größer oder gleich) zur verfügung.\n",
    "\n",
    "Das Ergebnis einer Vergleichsoperation ist vom Typ `bool`."
   ]
  },
  {
   "cell_type": "code",
   "execution_count": null,
   "metadata": {
    "slideshow": {
     "slide_type": "fragment"
    }
   },
   "outputs": [],
   "source": [
    "x = 12 > 12\n",
    "type(x)"
   ]
  },
  {
   "cell_type": "markdown",
   "metadata": {
    "slideshow": {
     "slide_type": "subslide"
    }
   },
   "source": [
    "Bool'sche Ausdrücke selbst können mit logischen Operatoren verbunden werden.\n",
    "\n",
    "Hier benutzt Python eine etwas andere Syntax wie z.B. C oder Java, indem die Operatoren *ausgeschrieben* werden.\n",
    "\n",
    "`not` invertiert einen logsichen Ausdruck, mit `and` und `or` verknüpft man zwei logische Ausdrücke mit einem logischen UND, bzw. ODER."
   ]
  },
  {
   "cell_type": "markdown",
   "metadata": {
    "slideshow": {
     "slide_type": "slide"
    }
   },
   "source": [
    "**Aufgabe:** Ein logisches XOR gibt es nicht. Wie können sie es mit den existierenden logischen Operatoren realisieren?"
   ]
  },
  {
   "cell_type": "code",
   "execution_count": null,
   "metadata": {
    "slideshow": {
     "slide_type": "fragment"
    }
   },
   "outputs": [],
   "source": [
    "print('x\\ty\\tx XOR y')\n",
    "print('------------------------')\n",
    "a = [True, False]\n",
    "b = [True, False]"
   ]
  },
  {
   "cell_type": "markdown",
   "metadata": {
    "slideshow": {
     "slide_type": "subslide"
    }
   },
   "source": [
    "Kurzauswertungen sind nach dem Muster `<Operator>=` möglich.\n",
    "Beispielsweise entspricht `x*=3` dem Ausdruck `x=x*3`.\n",
    "\n",
    "Inkrement/Dekrement Operatoren wie in C oder Java existieren in Python allerdings nicht.\n",
    "Sie werden üblicherweise durch eine Kurzauswertungs-Schreibweise ersetzt, also z.B. `x+=1`."
   ]
  },
  {
   "cell_type": "markdown",
   "metadata": {
    "slideshow": {
     "slide_type": "slide"
    }
   },
   "source": [
    "### Sequenzielle Datentypen"
   ]
  },
  {
   "cell_type": "markdown",
   "metadata": {
    "slideshow": {
     "slide_type": "subslide"
    }
   },
   "source": [
    "Unter sequenziellen Datentypen wird eine Klasse von Datentypen zusammengefasst, die Folgen von **gleichartigen oder verschiedenen** Elementen verwalten.\n",
    "Die in sequenziellen Datentypen gespeicherten Elemente haben eine definierte Reihenfolge und man kann über eindeutige Indizes auf sie zugreifen.\n",
    "\n",
    "Den sequenziellen Datentyp `str` haben wir schon kennengelernt, er speicherteine folge von Zeichen, auch *zeichenkette* oder *String* genannt.\n",
    "Der Typ `bytes` (bzw. seine veränderliche Variante `bytearray`) ist den Strings ähnlich, verwaltet aber Folgen von Bytes (statt Zeichen).\n",
    "`bytes` ist in Python der Standardtyp um mit Binärdaten umzugehen.\n",
    "\n",
    "Neben Strings werden in Python häufig auch die sequenziellen Datentypen `list` und `tuple` eingesetzt.\n",
    "Mit ihnen können geordente Folgen von Objekten (bzw. von den Refeferenzen der Objekte) gespeichert werden."
   ]
  },
  {
   "cell_type": "markdown",
   "metadata": {
    "slideshow": {
     "slide_type": "subslide"
    }
   },
   "source": [
    "\n",
    "\n",
    "| <p align=\"left\">Modus | <p align=\"left\">Beschreibung | <p align=\"left\"> Veränderbarkeit |\n",
    "| --- | --- | --- |\n",
    "| <p align=\"left\"> `list` | <p align=\"left\"> Listen beliebiger Instanzen | <p align=\"left\"> veränderlich |\n",
    "| <p align=\"left\"> `tuple` | <p align=\"left\"> Listen beliebiger Instanzen unveränderlich | <p align=\"left\"> unveränderlich |\n",
    "| <p align=\"left\"> `str` | <p align=\"left\"> Text als Sequenz von Buchstaben | <p align=\"left\"> unveränderlich |\n",
    "| <p align=\"left\"> `bytes` | <p align=\"left\"> Binärdaten als Sequenz von Bytes | <p align=\"left\"> unveränderlich |\n",
    "| <p align=\"left\"> `bytearray` | <p align=\"left\"> Binärdaten als Sequenz von Bytes | <p align=\"left\"> veränderlich |\n",
    "\n",
    "\n",
    "Sequenzielle Datentypen untestüzen eine Reihe von Operationen die den Umgang mit den Daten erleichtern.\n",
    "Folgende Tabelle gibt einen Überblick über die Operatoren und Funktionen die auf sequenziellen Datentypen definiert sind (Quelle: Lehrbuch Site 148f.):"
   ]
  },
  {
   "cell_type": "markdown",
   "metadata": {
    "slideshow": {
     "slide_type": "subslide"
    }
   },
   "source": [
    "| <p align=\"left\"> Notation | <p align=\"left\"> Beschreibung |\n",
    "| :--- | :--- |\n",
    "| <p align=\"left\"> `x in s` | <p align=\"left\"> Prüft, ob x in s enthalten ist. Das Ergebnis ist ein Wahrheitswert. |\n",
    "| <p align=\"left\"> `x not in s` | <p align=\"left\"> Prüft, ob x nicht in s enthalten ist. Das Ergebnis ist eine bool-Instanz. Gleichwertig mit not x in s. |\n",
    "| <p align=\"left\"> `s + t` | <p align=\"left\"> Das Ergebnis ist eine neue Sequenz, die die Verkettung von s und t enthält. |\n",
    "| <p align=\"left\"> `s += t` | <p align=\"left\"> Erzeugt die Verkettung von s und t und weist sie s zu. |\n",
    "| <p align=\"left\"> `s * n oder n * s` | <p align=\"left\"> Liefert eine neue Sequenz, die die Verkettung von n Kopien von s enthält. |\n",
    "| <p align=\"left\"> `s *= n` | <p align=\"left\"> Erzeugt das Produkt s * n und weist es s zu. |\n",
    "| <p align=\"left\"> `s[i]` | <p align=\"left\"> Liefert das i-te Element von s. |\n",
    "| <p align=\"left\"> `s[i:j]` | <p align=\"left\"> Liefert den Ausschnitt aus s von i bis j. |\n",
    "| <p align=\"left\"> `s[i:j:k]` | <p align=\"left\"> Liefert den Ausschnitt aus s von i bis j, wobei nur jedes k-te Element beachtet wird. |"
   ]
  },
  {
   "cell_type": "markdown",
   "metadata": {
    "slideshow": {
     "slide_type": "subslide"
    }
   },
   "source": [
    "| <p align=\"left\"> Notation | <p align=\"left\"> Beschreibung |\n",
    "| :--- | :--- |\n",
    "| <p align=\"left\"> `len(s)` | <p align=\"left\"> Gibt die Anzahl der Elemente von s zurück. |\n",
    "| <p align=\"left\"> `max(s)` | <p align=\"left\"> Liefert das größte Element von s, sofern eine Ordnungsrelation für die Elemente definiert ist. |\n",
    "| <p align=\"left\"> `min(s)` | <p align=\"left\"> Liefert das kleinste Element von s, sofern eine Ordnungsrelation für die Elemente definiert ist. |\n",
    "| <p align=\"left\"> `s.index(x)` | <p align=\"left\"> Gibt den Index des ersten Vorkommens von x in der Sequenz s zurück. |\n",
    "| <p align=\"left\"> `s.count(x)` | <p align=\"left\"> Zählt, wie oft x in der Sequenz s vorkommt. |"
   ]
  },
  {
   "cell_type": "markdown",
   "metadata": {
    "slideshow": {
     "slide_type": "subslide"
    }
   },
   "source": [
    "#### Listen\n",
    "\n",
    "Listen sind eine sequentielle Anordnung die beliebige (Referenzen auf) Objekte aufnehmen kann.\n",
    "Erinnern Sie sich, dass in Python *alles* ein Objekt ist, also auch Elemente von Basis-Typen wie `ìnt`, `float`, oder `string`.\n",
    "Beispiele für Listen sind etwa:\n",
    "```python\n",
    "a = [1, 2.4, \"Hallo\"]\n",
    "b = [6, 2, [False, True, False], 44]\n",
    "```\n",
    "Alle sequenziellen Datentypen haben gemein, dass ihre Elemente eine feste Anordnung haben und über einen fortlaufenden Index adressierbar sind.\n",
    "So liefert `a[2]` den String `Hallo`, `b[2][1]` den Wert `True`.\n",
    "\n",
    "Wie die Beispiele zeigen, werden Listen in Python angelegt, indem die Elemente in eckige Klammern `[...]` geschrieben werden.\n",
    "So lässt sich auch eine leere Liste mit `a = []` anlegen."
   ]
  },
  {
   "cell_type": "markdown",
   "metadata": {
    "slideshow": {
     "slide_type": "subslide"
    }
   },
   "source": [
    "Für Listen existieren die Funktionen:\n",
    "- `l.append(e)` zum Anängen des Objekts `e` an das Ende der Liste `l`\n",
    "- `l.extend(m)` zum Anängen aller Elemente von `m` an das Ende der Liste `l`\n",
    "- `l.insert(i, e)` Einfügen des Objekts `e` an der Stelle `i` in die Liste `l`. Die anderen Elemente in `l` rücken von der Position `i` (einschließlich) um eine Position nach hinten\n",
    "- `l.pop([i])` Liefert das `i`-te Element der Liste `l` zurück und entfernt es aus der Liste. Die folgenden Elemente rücken um eine Position nach vorne. Der Parameter `i` ist optional. Fehlt er, wird das letzte Element der Liste entnommen\n",
    "- `l.remove(e)` Entfernt das erste Vorkommen von `e` aus der Liste `l`\n",
    "- `l.reverse()` Kehrt die Reihenfolge der Elemente in s um\n",
    "- `l.sort()` Sortiert die Liste `l` *in-place* (es wird keine neue Liste erzeugt)"
   ]
  },
  {
   "cell_type": "code",
   "execution_count": null,
   "metadata": {
    "slideshow": {
     "slide_type": "subslide"
    }
   },
   "outputs": [],
   "source": [
    "x = [4,3,2,1]\n",
    "print(id(x), x)\n",
    "x.append(5)\n",
    "print(id(x), x, \"(Hänge ein Element an:)\")\n",
    "x+=[6]\n",
    "print(id(x), x, \"(Verbinde 2 Listen mit '+')\")\n",
    "x=x+[7]\n",
    "print(id(x), x, \"(Die Zuweisung mit '=' erzeugt eine neue Liste)\")\n",
    "x.sort()\n",
    "print(id(x), x, \"(Sortieren)\")\n",
    "y = [9,9,9]\n",
    "x.extend(y)\n",
    "print(id(x), x, \"(Verbinde 2 Listen mit extend())\")\n",
    "x.append(y)\n",
    "print(id(x), x, \"(Anhängen eines Elements vom Typ list)\")\n",
    "x.pop(0)\n",
    "print(id(x), x, \"(Entnehmen des ersten Elements)\")"
   ]
  },
  {
   "cell_type": "markdown",
   "metadata": {
    "slideshow": {
     "slide_type": "slide"
    }
   },
   "source": [
    "**Aufgabe:** Gegeben seien die folgenden Listen `a` und `b`:\n",
    "```python\n",
    "a = [2, 3, 5, 7, 11, 13, 17, 19, 23, 29, 31]\n",
    "b = [1, 2, 3, 4, 5, 6, 7, 8, 9, 10, 11, 12, 13]\n",
    "```\n",
    "Berechnen Sie eine neue Liste `c`, die alle Elemente von `a` enthält die **nicht** in `b` sind."
   ]
  },
  {
   "cell_type": "markdown",
   "metadata": {
    "slideshow": {
     "slide_type": "slide"
    }
   },
   "source": [
    "#### Veränderbare und nicht-veränderbare Objekte\n",
    "\n",
    "Python unterscheidet zwischen veränderbaren und unveränderbaren Objekten.\n",
    "\n",
    "Instanzen von Basistypen sind unveränderbar.\n",
    "\n",
    "Das bedeutet, wenn Sie einer existierenden Variablen `x` einen neuen Wert zuweisen, so wird ein *neues Objekt* angelegt und der Variablen zugewiesen."
   ]
  },
  {
   "cell_type": "code",
   "execution_count": null,
   "metadata": {
    "slideshow": {
     "slide_type": "fragment"
    }
   },
   "outputs": [],
   "source": [
    "x = 1.2\n",
    "print(id(x))\n",
    "x = 1.2\n",
    "print(id(x))"
   ]
  },
  {
   "cell_type": "markdown",
   "metadata": {
    "slideshow": {
     "slide_type": "subslide"
    }
   },
   "source": [
    "Auch eine Kurzauswertungsoperation führt zum Anlegen eines neuen Objekts."
   ]
  },
  {
   "cell_type": "code",
   "execution_count": null,
   "metadata": {
    "slideshow": {
     "slide_type": "fragment"
    }
   },
   "outputs": [],
   "source": [
    "x = 1234\n",
    "print(id(x), x)\n",
    "x += 1\n",
    "print(id(x), x)"
   ]
  },
  {
   "cell_type": "markdown",
   "metadata": {
    "slideshow": {
     "slide_type": "subslide"
    }
   },
   "source": [
    "Unveränderbare (**immutable**) Objekte haben einigen Vorteile gegenüber veränderbaren (**mutable**) Objekten.\n",
    "Die Unveränderbarkeit von Objekten verhindert Seiteneffekte.\n",
    "Das bedeutet, wenn man ein immutable Object benutzt, kann man sicher sein, dass die Werte des Objekts nicht an anderer Stelle geändert wurden.\n",
    "Betrachten wir folgendes Beispiel:\n",
    "```python\n",
    "x = [1,2,3]\n",
    "y = x\n",
    "print(x is y)\n",
    "x[0] = 42\n",
    "print(y)\n",
    "```\n",
    "```\n",
    "True\n",
    "[42, 2, 3]\n",
    "```"
   ]
  },
  {
   "cell_type": "markdown",
   "metadata": {
    "slideshow": {
     "slide_type": "fragment"
    }
   },
   "source": [
    "Die Variablen `x` und `y` zeigen hier auf dasselbe Objekt, was belegt wird, durch die Überprüfung der Identität von `x` und `y` mit dem `is`-Operator.\n",
    "Durch Verändern von `x` wird nun gleichzeitig `y` verändert, schließlich referenzieren die beiden Variablen ja dasselbe Listen-Objekt."
   ]
  },
  {
   "cell_type": "markdown",
   "metadata": {
    "slideshow": {
     "slide_type": "subslide"
    }
   },
   "source": [
    "Wenn `x` und `y` unveränderbar wären, dann wäre die Zuweisung `x[0] = 42` nicht möglich.\n",
    "\n",
    "In diesem Fall müsste eine neue Liste mit `x = [42,2,3]` angelegt werden.\n",
    "Aber nun ist `x` aber ein neues Objekt, das von `y` verschieden ist.\n",
    "\n",
    "Durch das Unveränderbarmachen eines Datentyps erreicht man also, dass die Art Seiteneffekte nicht entstehen.\n",
    "Ein weiterer Vorteil von unveränderbaren Typen ist, dass sich die Daten im Speicher in kompakterer Form darstellen lassen."
   ]
  },
  {
   "cell_type": "markdown",
   "metadata": {
    "slideshow": {
     "slide_type": "fragment"
    }
   },
   "source": [
    "Allerdings haben immutable Objekte auch Nachteile.\n",
    "Wenn Sie ein Objekt verändern, also z.B. eine Sequenz erweitern, oder ein Element aus der Sequenz löschen wollen, müssen Sie die komplette Sequenz kopieren und als neues Objekt anlegen.\n",
    "\n",
    "Kommt das Verändern häufiger vor oder besteht die Sequenz aus vielen Elementen, so bringt die Unveränderbarkeit deutliche Performance-Einbußen mit sich."
   ]
  },
  {
   "cell_type": "markdown",
   "metadata": {
    "slideshow": {
     "slide_type": "subslide"
    }
   },
   "source": [
    "**Achtung:** Ein Objekt eines unveränderbaren Datentyps kann selbst wieder Objekte von veränderbaren Typen enthalten.\n",
    "Im folgenden Beispiel ist die (veränderbare) Liste `x` teil des (unveränderbaren) Tupels `y`.\n",
    "Wenn `x` geändert wird, ändert sich implizit auch `y` mit."
   ]
  },
  {
   "cell_type": "code",
   "execution_count": null,
   "metadata": {
    "slideshow": {
     "slide_type": "fragment"
    }
   },
   "outputs": [],
   "source": [
    "x = [1,2,3]\n",
    "y = (1,2,x)\n",
    "print(y)\n",
    "x[0]=44\n",
    "print(y)"
   ]
  },
  {
   "cell_type": "markdown",
   "metadata": {
    "slideshow": {
     "slide_type": "slide"
    }
   },
   "source": [
    "#### Tupel\n",
    "\n",
    "Der Datentyp `tuple` ist die unveränderbare Variante des Typs `list`.\n",
    "Durch die Tatsache, das einmal erzeugte Tupel nicht mehr verändert werden können, entfallen viele der Funktionalitäten der Listen.\n",
    "Funktionen wie `append`, `extend` oder `pop` ergeben für Tupel keinen Sinn.\n",
    "\n",
    "Tupel werden über eine mit Komma getrennte Liste von Elementen erzeugt.\n",
    "Optional kann das Tupel in runde Klammern gesetzt werden.\n",
    "Durch die Klammern erkennt man auch bei der Ausgabe, dass es sich um einen Tupel-Typ handelt."
   ]
  },
  {
   "cell_type": "code",
   "execution_count": null,
   "metadata": {
    "slideshow": {
     "slide_type": "fragment"
    }
   },
   "outputs": [],
   "source": [
    "x = 1,2,3\n",
    "y = ('A',4,5.6)\n",
    "print(x)\n",
    "print(y)"
   ]
  },
  {
   "cell_type": "markdown",
   "metadata": {
    "slideshow": {
     "slide_type": "subslide"
    }
   },
   "source": [
    "Eine Ausnahme besteht beim Anlegen eines Tupels mit nur einem Element.\n",
    "\n",
    "Angenommen, wir wollen ein Tupel `x`erstellen, das nur die Zahl `1` als Element enthält.\n",
    "Bei der Schreibweise `x = 1` wird die `1`natürlich nicht als Tupel interpretiert.\n",
    "Aber auch die Schreibweise `x = (1)` ist widersprüchlich, denn `(1)` ist eine geklammerte Integer-Zahl.\n",
    "\n",
    "Um diese Mehrdeutigkeiten auszuschließen, wird bei einem Tupel, das aus nur einem Element bestehen soll, ein Komma hinter das Element gesetzt.\n",
    "Damit ist es für den Python Interpreter klar, dass es sich um ein Tupel handeln soll."
   ]
  },
  {
   "cell_type": "code",
   "execution_count": null,
   "metadata": {
    "slideshow": {
     "slide_type": "fragment"
    }
   },
   "outputs": [],
   "source": [
    "x = 1,\n",
    "y = (2.0,)\n",
    "print(type(x), x)\n",
    "print(type(y), y)"
   ]
  },
  {
   "cell_type": "markdown",
   "metadata": {
    "slideshow": {
     "slide_type": "subslide"
    }
   },
   "source": [
    "Über die Konvertierungsfunktionen `list()` und `tuple()` lassen sich Listen bzw.\n",
    "Tupel aus Objekten anderer sequenzielle Datentypen erzeugen.\n",
    "\n",
    "Um aus einem Tupel oder eine Liste einen String zu machen, genügt die `str()` Funktion allerdings nicht.\n",
    "Hier hilft die Methode `c.join(s)`, die, aufgerufen auf einem Zeichen `c`, die Elemente von `s` mit dem Trennzeichen `c` zu einem String verbindet."
   ]
  },
  {
   "cell_type": "code",
   "execution_count": null,
   "metadata": {
    "slideshow": {
     "slide_type": "fragment"
    }
   },
   "outputs": [],
   "source": [
    "s = \"ABC\"\n",
    "t = tuple(s)\n",
    "print(type(t), t)\n",
    "l = list(t)\n",
    "print(type(l), l)\n",
    "l[2]='B'\n",
    "s = ''.join(l)\n",
    "print(type(s), s)"
   ]
  },
  {
   "cell_type": "markdown",
   "metadata": {
    "slideshow": {
     "slide_type": "slide"
    }
   },
   "source": [
    "#### Packing / Unpacking\n",
    "\n",
    "Wir haben gesehen, dass man die runden Klammern beim Erstellen von Tupel weglassen kann.\n",
    "Diese Eigenschaft nennt man auch *tuple packing*.\n",
    "Ein ähnliches Prinzip, genannt *unpacking*, gibt es auch bei der Zuweisung eines Tupels oder einer Liste auf mehrere Variable.\n",
    "\n",
    "Ist die rechte Seite einer Zuweisung ein Objekt eines sequenziellen Datentyps, kann dieses auf mehrere Zielvariable zugewiesen werden.\n",
    "Im unteren Beispiel wird der String `\"123\"` der Variablen `x` zugewiesen.\n",
    "`x` besitzt also einen sequenziellen Datentyp und hat 3 Elemente.\n",
    "Wir können daher `x` auf 3 andere Variable zuweisen."
   ]
  },
  {
   "cell_type": "code",
   "execution_count": null,
   "metadata": {
    "slideshow": {
     "slide_type": "fragment"
    }
   },
   "outputs": [],
   "source": [
    "x = \"123\"\n",
    "a,b,c = x\n",
    "b"
   ]
  },
  {
   "cell_type": "code",
   "execution_count": null,
   "metadata": {
    "slideshow": {
     "slide_type": "subslide"
    }
   },
   "outputs": [],
   "source": [
    "a = [\"Primzahlen\", [2, 3, 5, 7, 11, 13, 17, 19, 23, 29, 31]]\n",
    "name, l = a\n",
    "print(name)\n",
    "print(l)"
   ]
  },
  {
   "cell_type": "markdown",
   "metadata": {
    "slideshow": {
     "slide_type": "subslide"
    }
   },
   "source": [
    "Mit Unpacking hat man auch eine äußerst kompakte Möglichkeit, um die Werte mehrerer Variablen zu vertauschen:"
   ]
  },
  {
   "cell_type": "code",
   "execution_count": null,
   "metadata": {
    "slideshow": {
     "slide_type": "fragment"
    }
   },
   "outputs": [],
   "source": [
    "a, b = 10, 20\n",
    "a, b = b, a\n",
    "a"
   ]
  },
  {
   "cell_type": "markdown",
   "metadata": {
    "slideshow": {
     "slide_type": "subslide"
    }
   },
   "source": [
    "Es kommt relativ häufig vor, dass man nur eins oder wenige Elemente einer Sequenz \"auspacken\" möchte.\n",
    "Da die Anzahl der Elemente in einer Sequenz groß sein kann, wäre es äußerst unpraktisch, wenn man immer die genaue Zahl von Einzelvariablen auf der linken Seite der Zuweisung angeben müsste.\n",
    "Es gibt daher einen speziellen Operator, mit dem eine Variable als Sequenz-Typ markiert werden kann.\n",
    "Diese Sequenz-Variable übernimmt dann die Werte, die nicht auf die Einzelvariablen zugewiesen werden."
   ]
  },
  {
   "cell_type": "code",
   "execution_count": null,
   "metadata": {
    "slideshow": {
     "slide_type": "fragment"
    }
   },
   "outputs": [],
   "source": [
    "p = [2, 3, 5, 7, 11, 13, 17, 19, 23, 29, 31]\n",
    "p0, p1, p2, *px = p\n",
    "px"
   ]
  },
  {
   "cell_type": "markdown",
   "metadata": {
    "slideshow": {
     "slide_type": "fragment"
    }
   },
   "source": [
    "Die Aufteilung der Werte auf die Variablen muss dabei eindeutig sein.\n",
    "Folgende Zuweisung funktioniert daher nicht:"
   ]
  },
  {
   "cell_type": "code",
   "execution_count": null,
   "metadata": {
    "slideshow": {
     "slide_type": "fragment"
    }
   },
   "outputs": [],
   "source": [
    "p = [2, 3, 5, 7, 11, 13, 17, 19, 23, 29, 31]\n",
    "*pa, pm, *pe = p\n",
    "pa"
   ]
  },
  {
   "cell_type": "markdown",
   "metadata": {
    "slideshow": {
     "slide_type": "slide"
    }
   },
   "source": [
    "**Aufgabe:** Schreiben Sie eine Funktion `fib(n)`, die die `n`-te Fibonacci-Zahl **sowie** die Fibonacci-Folge vom ersten bis `n`-ten Element zurückliefert."
   ]
  },
  {
   "cell_type": "markdown",
   "metadata": {
    "slideshow": {
     "slide_type": "slide"
    }
   },
   "source": [
    "Der Unpacking Operator `*` funktioniert auch an anderen Stellen, z.B. bei *Generatoren*.\n",
    "\n",
    "Generatoren sind spezielle Funktionen, die Folgen von Objekten generieren.\n",
    "\n",
    "Wir haben bereits öfter den `range()`-Generator benutzt.\n",
    "\n",
    "Um einen Generator-Aufruf direkt in eine Liste zu überführen, können wir den Unpacking Operator benutzen."
   ]
  },
  {
   "cell_type": "code",
   "execution_count": null,
   "metadata": {
    "slideshow": {
     "slide_type": "fragment"
    }
   },
   "outputs": [],
   "source": [
    "[* range(10) ]"
   ]
  },
  {
   "cell_type": "markdown",
   "metadata": {
    "slideshow": {
     "slide_type": "slide"
    }
   },
   "source": [
    "**Aufgabe:** Erstellen Sie eine Liste mit den Ungeraden Zahlen zwischen 20 und 50."
   ]
  },
  {
   "cell_type": "markdown",
   "metadata": {
    "slideshow": {
     "slide_type": "slide"
    }
   },
   "source": [
    "#### Indizierung\n",
    "\n",
    "Schon mehrfach haben wir über die Index-Klammern `[]` auf einzelne Elemente eines sequenziellen Datentyps zugegriffen.\n",
    "Es gibt aber auch die Möglichkeit, ganze Bereiche aus einer Sequenz zu selektieren.\n",
    "Diese Art Zugriffe nennt man auch *slicing*.\n",
    "\n",
    "Beim Zugriff per slicing gibt man in der Index-Klammer einen Bereich an.\n",
    "Dabei ist zu beachten, dass der Endwert als exklusiv zu interpretieren ist und damit nicht mehr zu dem Bereich gehört.\n",
    "`x[2:5]` liefert also die Elemente `x[2]`, `x[3]` und `x[4]` als Sequenz zurück.\n",
    "\n",
    "Optional kann noch ein weiterer Parameter für die Schrittweite angegeben werden.\n",
    "`x[1:10:2]` liefert z.B. die Elemente mit ungeradem Index im Bereich 1 bis 9.\n",
    "\n",
    "Eine weitere Möglichkeit der Indizierung funktioniert mit negativen Indizes.\n",
    "Mit `x[-1]` referenziert man das letzte Element der Sequenz `x`.\n",
    "Zusammen mit einer negativen Schrittweite kann man damit auch rückwärts über die Elemente der Sequenz iterieren."
   ]
  },
  {
   "cell_type": "code",
   "execution_count": null,
   "metadata": {
    "slideshow": {
     "slide_type": "subslide"
    }
   },
   "outputs": [],
   "source": [
    "z = [i for i in range(15)]\n",
    "print(z, \"(Die Liste)\")\n",
    "print(z[3], \"(Das Element mit Index 3 aus der Liste)\")\n",
    "print(z[3:12], \"(Elemente von Index 3 bis 11)\")\n",
    "print(z[3:12:2], \"(Jedes zweite Element von Index 3 bis 11)\")\n",
    "print(z[-2], \"(Das Element mit dem vorletzten Index aus der Liste)\")\n",
    "print(z[-1:-5:-1], \"(Die letzten 4 Elemente der Liste in umgekehrter Reihenfolge)\")"
   ]
  },
  {
   "cell_type": "markdown",
   "metadata": {
    "slideshow": {
     "slide_type": "slide"
    }
   },
   "source": [
    "**Aufgabe:** Die folgende Code-Zelle generiert eine (zweidimensionale) Liste von Listen mit durchnummerierten Integer Werten.\n",
    "Schreiben Sie eine Funktion `teilmatrix(A,a=0,b=0,c=0,d=0)` die eine Teilmatrix von `A` als neue zweidimensionale Liste zurückgibt.\n",
    "\n",
    "Die Teilmatrix soll die Zeilen `a` bis `b` (ausschließlich) und darin die Elemente in den Spalten `c` bis `d` (ausschließlich) umfassen.\n",
    "\n",
    "`a`, `b`,`c` und `d` sind optionale Parameter, falls sie beim Funktionsaufruf nicht angegeben werden, wird die Initialbelegung (hier `0`) angenommen.\n",
    "\n",
    "Falls die oberen Begrenzungen (`b` und `d`) nicht oder gleich 0 gesetzt sind, soll die maximale Länge der Zeilen bzw. Spalten angenommen werden."
   ]
  },
  {
   "cell_type": "code",
   "execution_count": null,
   "metadata": {
    "slideshow": {
     "slide_type": "fragment"
    }
   },
   "outputs": [],
   "source": [
    "rows = 5\n",
    "cols = 5\n",
    "A = [[y for y in range(x*cols,(x+1)*cols)] for x in range(rows)]\n",
    "A"
   ]
  },
  {
   "cell_type": "markdown",
   "metadata": {
    "slideshow": {
     "slide_type": "slide"
    }
   },
   "source": [
    "### Dictionaries"
   ]
  },
  {
   "cell_type": "markdown",
   "metadata": {
    "slideshow": {
     "slide_type": "subslide"
    }
   },
   "source": [
    "\n",
    "*Mappings* sind Datentypen, die Zuordnungen zwischen verschiedenen Objekten herstellen.\n",
    "\n",
    "Der Python Datentyp, *Dictionary* (dt. *Wörterbuch*) gehört zu dieser Kategorie.\n",
    "\n",
    "Ein Dictionary enthält beliebig viele Schlüssel-Wert-Paare (engl. *key/value pairs*), wobei der Schlüssel nicht unbedingt, wie der Index bei sequentiellen Datentypen, eine ganze Zahl sein muss.\n",
    "\n",
    "Vielleicht ist Ihnen dieser Datentyp schon von einer anderen Programmiersprache her bekannt, wo er als assoziatives Array (u. a. in PHP), Map (u. a. in C++) oder Hash (u. a. in Perl) bezeichnet wird.\n",
    "\n",
    "Der Datentyp dict ist mutabel, also veränderlich."
   ]
  },
  {
   "cell_type": "code",
   "execution_count": null,
   "metadata": {
    "slideshow": {
     "slide_type": "fragment"
    }
   },
   "outputs": [],
   "source": [
    "haupstaedte = {\"DE\" : \"Berlin\", \"FR\" : \"Paris\", \"US\" : \"Washington\", \"CH\" : \"Zurich\"}\n",
    "for s in haupstaedte:\n",
    "    print(haupstaedte[s])"
   ]
  },
  {
   "cell_type": "markdown",
   "metadata": {
    "slideshow": {
     "slide_type": "subslide"
    }
   },
   "source": [
    "Folgende Funktionen sind für den Dictionary-Typ definiert:\n",
    "- `d.clear()` Löscht alle Elemente aus dem Dictionary `d`\n",
    "- `d.copy()` Erzeugt eine Kopie von `d`\n",
    "- `d.get(k)` Liefert `d[k]`, wenn der Schlüssel `k` vorhanden ist. Im Gegensatz zu `d[k]` erzeugt `d.get(k)` keinen Laufzeitfehler, wenn der Schlüssel `k` im Dictionary nicht existiert\n",
    "- `d.items()` Gibt ein iterierbares Objekt zurück, mit dem alle Schlüssel-Wert-Paare von `d` durchlaufen werden können\n",
    "- `d.keys()` Gibt ein iterierbares Objekt zurück, mit dem alle Schlüssel von `d` durchlaufen werden können\n",
    "- `d.values()` Gibt ein iterierbares Objekt zurück, mit dem alle Werte von `d` durchlaufen werden können\n",
    "- `d.pop(k)` Gibt den zum Schlüssel `k` gehörigen Wert zurück und löscht das Schlüssel-Wert-Paar aus dem Dictionary `d`\n",
    "- `d.popitem()` Gibt ein willkürliches Schlüssel-Wert-Paar von `d` zurück und entfernt es aus dem Dictionary `d`\n",
    "- `d.setdefault(k, [x])` Fügt den Wert `x` unter dem Schlüsssel `k` hinzu, falls `k` nicht schon vorhanden ist\n",
    "- `d.update(d2)` Fügt ein Dictionary `d2` zu `d` hinzu und überschreibt gegebenenfalls die Werte bereits vorhandener Schlüssel\n",
    "- `dict.fromkeys(s, [v])` Erstelle ein neues Dictionary mit den Werten der Liste `s` als Schlüssel und setzte alle Werte auf `v`\n"
   ]
  },
  {
   "cell_type": "code",
   "execution_count": null,
   "metadata": {
    "slideshow": {
     "slide_type": "subslide"
    }
   },
   "outputs": [],
   "source": [
    "d = {'key1':1.23,('k','e','y','2'):(1,2,3),'key4':2}\n",
    "d[33]=True\n",
    "print(\"Items:\", d.items())\n",
    "print(\"Values:\", d.values())\n",
    "print(\"Keys:\", d.keys())\n",
    "print(\"Dictionary:\", d)\n",
    "d.setdefault('key3',['A','B','CDE'])\n",
    "print(\"Dictionary:\", d)\n",
    "print(\"Pop Element:\", d.popitem())\n",
    "print(\"Pop Element:\", d.pop('key1'))\n",
    "print(\"Dictionary:\", d)\n",
    "d.clear()\n",
    "print(\"Dictionary:\", d)"
   ]
  },
  {
   "cell_type": "markdown",
   "metadata": {
    "slideshow": {
     "slide_type": "subslide"
    }
   },
   "source": [
    "Für Dictionaries gibt es verschiedene Iteratoren."
   ]
  },
  {
   "cell_type": "code",
   "execution_count": null,
   "metadata": {
    "slideshow": {
     "slide_type": "fragment"
    }
   },
   "outputs": [],
   "source": [
    "d = {'key1':1.23,'key2':(1,2,3),'key3':['A','B','CDE']}\n",
    "print(\"Items:\")\n",
    "for i in d.items(): print(i, end=' ')\n",
    "print(\"\\nValues:\")\n",
    "for v in d.values(): print(v, end=' ')\n",
    "print(\"\\nKeys:\")\n",
    "for k in d.keys(): print(k, end=' ')"
   ]
  },
  {
   "cell_type": "markdown",
   "metadata": {
    "slideshow": {
     "slide_type": "slide"
    }
   },
   "source": [
    "**Aufgabe:** In der folgenden Code-Zelle wird ein zweidimensionales Feld erzeugt.\n",
    "Jedes Element der der äußeren Liste ist wieder eine Liste.\n",
    "Diese inneren Listen bestehen aus Daten verschiedenen Typs.\n",
    "Das erste Element ist ein Integer, dass die Matrikelnummer von Studierenden darstellen soll.\n",
    "Das zweite Element ist ein Name, kodiert als String. \n",
    "Danach folgen drei Integer-Werte, die die Punkte für drei Klausuraufgaben wiedergeben.\n",
    "\n",
    "1. Lesen Sie die Liste `data` in ein Dictionary ein und verwenden Sie als Schlüssel die Matrikelnummern der Studierenden. Als Werte sollen die Punkte in Form eines 3-Tupels zusammen mit dem Namen als Liste gespeichert werden.\n",
    "2. Erweitern Sie sie Werte des Dictionaries indem Sie die Gesamtpunktzahl in der Liste hinzfügen."
   ]
  },
  {
   "cell_type": "code",
   "execution_count": null,
   "metadata": {
    "slideshow": {
     "slide_type": "subslide"
    }
   },
   "outputs": [],
   "source": [
    "from random import randint, seed\n",
    "seed(1)\n",
    "names = [\"Alice\",\"Bob\",\"Carol\",\"Fan\",\"Eve\",\"Frank\",\"Grace\",\"Harry\",\"Ivy\",\"John\"]\n",
    "data = []\n",
    "for i in range(10):\n",
    "    matnr = 2000000 + randint(34, 42) * 100 + randint(0,100)\n",
    "    name = names[i]\n",
    "    p1 = randint(0,10)\n",
    "    p2 = randint(0,10)\n",
    "    p3 = randint(0,10)\n",
    "    data.append([matnr, name, p1, p2, p3])\n",
    "data"
   ]
  },
  {
   "cell_type": "markdown",
   "metadata": {
    "slideshow": {
     "slide_type": "subslide"
    }
   },
   "source": [
    "1\\. Lesen Sie die Liste `data` in ein Dictionary ein und verwenden Sie als Schlüssel die Matrikelnummern der Studierenden. Als werte sollen die Punkte in Form eines 3-Tupels zusammen mit dem Namen als Liste gespeichert werden."
   ]
  },
  {
   "cell_type": "code",
   "execution_count": null,
   "metadata": {
    "slideshow": {
     "slide_type": "fragment"
    }
   },
   "outputs": [],
   "source": []
  },
  {
   "cell_type": "markdown",
   "metadata": {
    "slideshow": {
     "slide_type": "subslide"
    }
   },
   "source": [
    "2\\. Erweitern Sie sie Werte des Dictionaries indem Sie die Gesamtpunktzahl in der Liste hinzfügen."
   ]
  },
  {
   "cell_type": "code",
   "execution_count": null,
   "metadata": {
    "slideshow": {
     "slide_type": "fragment"
    }
   },
   "outputs": [],
   "source": []
  },
  {
   "cell_type": "markdown",
   "metadata": {
    "slideshow": {
     "slide_type": "slide"
    }
   },
   "source": [
    "### Mengen\n",
    "\n",
    "Eine Menge (engl. *set*) ist eine ungeordnete Sammlung von Elementen, in der jedes Element nur einmal enthalten sein darf. In Python gibt es zur Darstellung von Mengen zwei Basisdatentypen: `set` für eine veränderliche Menge sowie `frozenset` für eine unveränderliche Menge – set ist demnach mutabel, frozenset immutabel."
   ]
  },
  {
   "cell_type": "code",
   "execution_count": null,
   "metadata": {
    "slideshow": {
     "slide_type": "fragment"
    }
   },
   "outputs": [],
   "source": [
    "s = {4,4,4,4,3,3,3,2,2,1}\n",
    "s"
   ]
  },
  {
   "cell_type": "markdown",
   "metadata": {
    "slideshow": {
     "slide_type": "subslide"
    }
   },
   "source": [
    "Mit der Funktion `set(seq)` kann man aus einer beliebigen Sequenz eine Menge erstellen.\n",
    "Die Funktion `set()` ist darüber hinaus notwendig, um eine leere Menge zu Erzeugen.\n",
    "Die geschweiften Klammern, mit denen eine Menge angelegt werden kann, wird auch für Dictionaries benutzt und die Zeichenfolge `{}` würde Python als leeres Dictionary interpretieren."
   ]
  },
  {
   "cell_type": "code",
   "execution_count": null,
   "metadata": {
    "slideshow": {
     "slide_type": "fragment"
    }
   },
   "outputs": [],
   "source": [
    "s = input (\"Zeichenkette eingeben: \")\n",
    "set(s)"
   ]
  },
  {
   "cell_type": "markdown",
   "metadata": {
    "slideshow": {
     "slide_type": "subslide"
    }
   },
   "source": [
    "Auf Mengen sind auch die mathematischen Mengenoperationen definiert.\n",
    "\n",
    "Mit `s >= t`überprüft man, ob `t` eine Teilmenge von `s` ist.\n",
    "\n",
    "Die Vereinigungsmenge von `s` und `t` bildet man mit `s | t`, die Schnittmenge mit `s & t`."
   ]
  },
  {
   "cell_type": "code",
   "execution_count": null,
   "metadata": {
    "slideshow": {
     "slide_type": "fragment"
    }
   },
   "outputs": [],
   "source": [
    "set(\"Hallo\")&set(\"Welt\")"
   ]
  },
  {
   "cell_type": "markdown",
   "metadata": {
    "slideshow": {
     "slide_type": "slide"
    }
   },
   "source": [
    "**Aufgabe:** In der folgenden Code-Zelle wird eine Text-Datei (J.W. von Goethe - Faust I) eingelesen und zeilenweise verarbeitet.\n",
    "Die Worte in den Zeilen werden nach Leerzeichen getrennt (`line.split()`), danach werden noch die Satzzeichen (`string.punctuation`) entfernt und alle Buchstaben zu Kleinbuchstaben gemacht (`w.lower()`).\n",
    "\n",
    "Der Ausgangspunkt für die Aufgabe ist die Liste `faust`, die alle Worte des Goethe-Werks enthält.\n",
    "\n",
    "1. Geben Sie die ersten 200 Worte des Textes über die Liste `faust` aus. Um die Lesbarkeit zu verbessern, können Sie aus einer Liste einen String machen. `' '.join(liste)` verbindet alle Elemente von `liste` mit einem Leerzeichen `' '`. Das Ergebnis können Sie mit `print` ausgeben.\n",
    "2. Bestimmen Sie die Länge des Textes in der Anzahl der Wörter.\n",
    "3. Bestimmen Sie die Anzahl der voneinander verschieden Wörter im Text. Jedes Wort soll also nur einmal gezählt werden.\n",
    "4. Bestimmen Sie die Häufigkeit der Vorkommen aller Wörter im Text. Legen Sie dazu Dictionary an, dass die verschiedenen Wörter des Textes als Schlüssel und die Vorkommen der Wörter als Wert benutzt.\n",
    "5. Bestimmen Sie die `n` (z.B. 10, 30, ...) häufigsten Wörter im Text."
   ]
  },
  {
   "cell_type": "code",
   "execution_count": null,
   "metadata": {
    "slideshow": {
     "slide_type": "subslide"
    }
   },
   "outputs": [],
   "source": [
    "import os, codecs, string\n",
    "faust = []\n",
    "with codecs.open('faust.txt','r', 'utf-8') as f:\n",
    "    for line in f:\n",
    "        for word in line.split():\n",
    "            w = word.translate(str.maketrans('', '', string.punctuation))\n",
    "            faust.append(w.lower())"
   ]
  },
  {
   "cell_type": "markdown",
   "metadata": {
    "slideshow": {
     "slide_type": "subslide"
    }
   },
   "source": [
    "1\\. Geben Sie die ersten 200 Worte des Textes über die Liste `faust` aus. Um die Lesbarkeit zu verbessern, können Sie aus einer Liste einen String machen. `' '.join(liste)` verbindet alle Elemente von `liste` mit einem Leerzeichen `' '`. Das Ergebnis können Sie mit `print` ausgeben."
   ]
  },
  {
   "cell_type": "code",
   "execution_count": null,
   "metadata": {
    "slideshow": {
     "slide_type": "fragment"
    }
   },
   "outputs": [],
   "source": []
  },
  {
   "cell_type": "markdown",
   "metadata": {
    "slideshow": {
     "slide_type": "subslide"
    }
   },
   "source": [
    "2\\. Bestimmen Sie die Länge des Textes in der Anzahl der Wörter.\n",
    "\n",
    "3\\. Bestimmen Sie die Anzahl der voneinander verschieden Wörter im Text. Jedes Wort soll also nur einmal gezählt werden."
   ]
  },
  {
   "cell_type": "code",
   "execution_count": null,
   "metadata": {
    "slideshow": {
     "slide_type": "fragment"
    }
   },
   "outputs": [],
   "source": []
  },
  {
   "cell_type": "markdown",
   "metadata": {
    "slideshow": {
     "slide_type": "subslide"
    }
   },
   "source": [
    " 4\\. Bestimmen Sie die Häufigkeit der Vorkommen aller Wörter im Text. Legen Sie dazu Dictionary an, dass die verschiedenen Wörter des Textes als Schlüssel und die Vorkommen der Wörter als Wert benutzt."
   ]
  },
  {
   "cell_type": "code",
   "execution_count": null,
   "metadata": {
    "slideshow": {
     "slide_type": "fragment"
    }
   },
   "outputs": [],
   "source": []
  },
  {
   "cell_type": "markdown",
   "metadata": {
    "slideshow": {
     "slide_type": "subslide"
    }
   },
   "source": [
    "5\\. Bestimmen Sie die n (z.B. 10, 30, ...) häufigsten Wörter im Text."
   ]
  },
  {
   "cell_type": "code",
   "execution_count": null,
   "metadata": {
    "slideshow": {
     "slide_type": "fragment"
    }
   },
   "outputs": [],
   "source": []
  },
  {
   "cell_type": "markdown",
   "metadata": {},
   "source": [
    "# Funkionen\n",
    "\n",
    "Funktionen in Python werden über das Schlüsselwort `def` definiert. Die Syntax einer Funktions-Definition sieht folgendermaßen aus:\n",
    "\n",
    "```python\n",
    "def myfunc(arg1, arg2,... argN):  \n",
    "  '''Dokumentation'''  \n",
    "\n",
    "  #Programmcode  \n",
    "\n",
    "  return <Rückgabewert>  \n",
    "```\n",
    "\n",
    "Hier wird die Funktion \"myfunc\" definiert, welche mit den Parametern \"arg1,arg2,....argN\" aufgerufen werden kann. Im Funktionsrumpf kann vor dem eigentlichen Programmcode noch eine Dokumentation zu der Funktion angegeben werden. (Siehe auch: Kapitel 36 _Dokumentation_ in: Ernesti und Kaiser, \"Python 3: Das umfassende Handbuch\", Rheinwerk 2018)"
   ]
  },
  {
   "cell_type": "markdown",
   "metadata": {},
   "source": [
    "Die Dokumentation sowie der Rückgabewert sind optional. Eine Funktion muss aber mindestends eine Anweisung enthalten. Deshalb ist die folgende Definition ungültig:"
   ]
  },
  {
   "cell_type": "code",
   "execution_count": null,
   "metadata": {},
   "outputs": [],
   "source": [
    "def leer():\n",
    "      "
   ]
  },
  {
   "cell_type": "markdown",
   "metadata": {},
   "source": [
    "Falls Sie eine Funktion definieren, aber nicht ausimplementieren wollen, können Sie die `pass`-Anweisung benutzen. Sie wird eingesetzt, wenn die Syntax eine Anweisung verlangt, das Programm jedoch nichts tun soll."
   ]
  },
  {
   "cell_type": "code",
   "execution_count": null,
   "metadata": {},
   "outputs": [],
   "source": [
    "def fastleer():\n",
    "    pass"
   ]
  },
  {
   "cell_type": "markdown",
   "metadata": {},
   "source": [
    "## Schreiben einer Funktion"
   ]
  },
  {
   "cell_type": "markdown",
   "metadata": {},
   "source": [
    "Hier ist noch einmal die Beispiel-Funktion aus Kapitel 19.1 des Lehrbuchs."
   ]
  },
  {
   "cell_type": "code",
   "execution_count": null,
   "metadata": {},
   "outputs": [],
   "source": [
    "def fak(zahl):\n",
    "    '''Berechnet die Fakultät einer Zahl'''\n",
    "    ergebnis = 1\n",
    "    for i in range(2, zahl+1):\n",
    "        ergebnis *= i\n",
    "    print(ergebnis)\n",
    "\n",
    "#Ein einfacher Test:\n",
    "fak(10)"
   ]
  },
  {
   "cell_type": "markdown",
   "metadata": {},
   "source": [
    "Diese Funktion ist allerdings nur bedingt nützlich, da sie das Resultat der Berechnung nur auf die Standardausgabe schreibt, aber keinen Rückgabewert definiert. Daher ist es sinnvoll, die Funktion so zu umzuschreiben:\n"
   ]
  },
  {
   "cell_type": "code",
   "execution_count": null,
   "metadata": {},
   "outputs": [],
   "source": [
    "def fak(zahl):\n",
    "    '''Berechnet die Fakultät einer Zahl'''\n",
    "    ergebnis = 1\n",
    "    for i in range(2, zahl+1):\n",
    "        ergebnis *= i\n",
    "    return ergebnis\n",
    "\n",
    "#Ein einfacher Test:\n",
    "fak(10)"
   ]
  },
  {
   "cell_type": "markdown",
   "metadata": {},
   "source": [
    "Natürlich können Sie die Fakultät-Funktion auch rekursiv definieren:"
   ]
  },
  {
   "cell_type": "code",
   "execution_count": null,
   "metadata": {},
   "outputs": [],
   "source": [
    "def fak(n):\n",
    "    '''Berechnet die Fakultät der Zahl n'''\n",
    "    if n > 0:\n",
    "        return fak(n - 1) * n\n",
    "    else:\n",
    "        return 1\n",
    "    \n",
    "print(fak(10))"
   ]
  },
  {
   "cell_type": "markdown",
   "metadata": {},
   "source": [
    "Da wir einen *Docstring* angegeben haben, können wir Informationen zur Funktion über das Hilfesystem abfragen:"
   ]
  },
  {
   "cell_type": "code",
   "execution_count": null,
   "metadata": {},
   "outputs": [],
   "source": [
    "help(fak)"
   ]
  },
  {
   "cell_type": "markdown",
   "metadata": {},
   "source": [
    "Auf den Docstring kann man auch innerhalb eines Programms zugreifen:"
   ]
  },
  {
   "cell_type": "code",
   "execution_count": null,
   "metadata": {},
   "outputs": [],
   "source": [
    "print(fak.__doc__)"
   ]
  },
  {
   "cell_type": "markdown",
   "metadata": {},
   "source": [
    "**Aufgabe 1**\n",
    "\n",
    "**Schreiben Sie eine Funktion `ggt(a,b)`, die den größten gemeinsamen Teiler (ggT) zweier Zahlen berechnet.**\n",
    "\n",
    "**Hinweise:** Eine effiziente Möglichkeit, den ggT zu berechnen ist der euklidische Algorithmus. Das Verfahren funktioniert folgendermaßen:\n",
    "1. Spezialfälle abfangen: Wenn (a==0) gilt, ist das Ergebnis der Funktion `b`; wenn (b==0) gilt, ist das Ergebnis `a`.  \n",
    "2. Solange `b!=0` (\"b ungleich 0\") gilt, wiederhole folgende Schritte:  \n",
    "    1. Berechne r als den ganzzahligen Rest der Division $\\frac{a}{b}$ (\"r = a modulo b\")  \n",
    "    2. Setze a=b und b=r\n",
    "3. Gebe a als Ergebnis zurück\n",
    "\n",
    "\n",
    "Weitere Informationen finden Sie z.B. auf [Wikipedia](https://de.wikipedia.org/wiki/Gr%C3%B6%C3%9Fter_gemeinsamer_Teiler)"
   ]
  },
  {
   "cell_type": "code",
   "execution_count": null,
   "metadata": {},
   "outputs": [],
   "source": [
    "def ggt(a, b):\n",
    "    if(a == 0):\n",
    "        return b\n",
    "    if(b == 0):\n",
    "        return a\n",
    "    \n",
    "    while (b != 0):\n",
    "        r = a % b;\n",
    "        a = b;\n",
    "        b = r;\n",
    "            \n",
    "    return a"
   ]
  },
  {
   "cell_type": "markdown",
   "metadata": {},
   "source": [
    "Überprüfen Sie die Funktion anhand von Beispielen."
   ]
  },
  {
   "cell_type": "code",
   "execution_count": null,
   "metadata": {},
   "outputs": [],
   "source": [
    "print(\"ggT von 168 und 546 ist %d (richtig ist 42)\" % ggt(168,546))"
   ]
  },
  {
   "cell_type": "markdown",
   "metadata": {},
   "source": [
    "## Funktionsparameter"
   ]
  },
  {
   "cell_type": "markdown",
   "metadata": {},
   "source": [
    "Sie haben nun eine `ggt` Funktion, die den größten gemeinsamen Teiler zweier Zahlen berechnet. Falls Sie den ggT von mehr als 2 Zahlen berechnen wollen, können Sie die Funktion `ggt` mehrfach benutzen.  \n",
    "Nehmen wir an Sie wollen den ggt der Zahlen a, b, und c berechnen. Es gilt $ggT(a,b,c)=ggT(ggT(a,b),c)$  \n",
    "Da für die ggT Funktion das Assoziativgesetz gilt, ist es unerheblich, in welcher \"Reihenfolge\" Sie die Funktion aufrufen. Es gilt also $ggT(ggT(a,b),c)=ggT(a,ggT(b,c)$."
   ]
  },
  {
   "cell_type": "markdown",
   "metadata": {},
   "source": [
    "Um die ggT Funktion nun allgemeiner, für mehrere Parameter zu definieren, benennen wir zunächst die ursprüngliche Funktion `ggt` in `ggt2` um:"
   ]
  },
  {
   "cell_type": "code",
   "execution_count": null,
   "metadata": {},
   "outputs": [],
   "source": [
    "ggt2=ggt"
   ]
  },
  {
   "cell_type": "markdown",
   "metadata": {},
   "source": [
    "Das funktioniert, weil der Funktionsname nur ein Zeiger auf das eigentliche Funktionsobjekt ist. Sie können nun die Funktion über beide \"Namen\" aufrufen:"
   ]
  },
  {
   "cell_type": "code",
   "execution_count": null,
   "metadata": {},
   "outputs": [],
   "source": [
    "print(ggt(168,546))\n",
    "print(ggt2(168,546))"
   ]
  },
  {
   "cell_type": "markdown",
   "metadata": {},
   "source": [
    "Der \"alte\" Name kann weiter bestehen, Sie können ihn aber auch explizit löschen:"
   ]
  },
  {
   "cell_type": "code",
   "execution_count": null,
   "metadata": {},
   "outputs": [],
   "source": [
    "del ggt\n",
    "print(ggt(168,546))\n",
    "print(ggt2(168,546))"
   ]
  },
  {
   "cell_type": "markdown",
   "metadata": {},
   "source": [
    "**Aufgabe 2**\n",
    "\n",
    "**Schreiben Sie eine Funktion `ggt3(a,b,c)`, die den ggT dreier Zahlen a, b und c berechnet. Die Funktion soll auch ein korrektes Ergebnis zurückgeben, wenn nur 2 der 3 Parameter beim Funktionsaufruf gesetzt werden.**"
   ]
  },
  {
   "cell_type": "code",
   "execution_count": null,
   "metadata": {},
   "outputs": [],
   "source": [
    "def ggt3(a=0, b=0, c=0):\n",
    "    return ggt2(ggt2(a,b),c)"
   ]
  },
  {
   "cell_type": "markdown",
   "metadata": {},
   "source": [
    "Überprüfen Sie ihre Funktion anhand einiger Beispiele:"
   ]
  },
  {
   "cell_type": "code",
   "execution_count": null,
   "metadata": {},
   "outputs": [],
   "source": [
    "ggt3(168,546)"
   ]
  },
  {
   "cell_type": "code",
   "execution_count": null,
   "metadata": {},
   "outputs": [],
   "source": [
    "ggt3(b=168,c=546)"
   ]
  },
  {
   "cell_type": "markdown",
   "metadata": {},
   "source": [
    "Die ggT-Funktion um einen Parameter zu erweitern ist nicht gerade sinnvoll. Besser wäre es, wenn man `ggt()` mit einer beliebigen Anzahl von Parametern aufrufen könnte.  "
   ]
  },
  {
   "cell_type": "markdown",
   "metadata": {},
   "source": [
    "**Aufgabe 3**\n",
    "\n",
    "**Schreiben Sie eine Funktion `ggt`, die den ggT von 2 und mehr Zahlen berechnet.**\n",
    "\n",
    "**Hinweise:** Verwenden Sie variable (Positions-) Parameter mit dem `*<parameter-tupel>` Konstrukt."
   ]
  },
  {
   "cell_type": "code",
   "execution_count": null,
   "metadata": {},
   "outputs": [],
   "source": [
    "def ggt(a, b, *p, **kwp):\n",
    "    prev = ggt2(a,b)\n",
    "    if(p):\n",
    "        for z in p:\n",
    "            prev = ggt2(prev,z)\n",
    "    else:\n",
    "        print(\"Nur 2 Parameter angegeben\")\n",
    "    if(kwp):\n",
    "        for z in kwp.values():\n",
    "            prev = ggt2(prev,z)\n",
    "    else:\n",
    "        print(\"Kein kwp angegeben\")\n",
    "    return prev"
   ]
  },
  {
   "cell_type": "code",
   "execution_count": null,
   "metadata": {},
   "outputs": [],
   "source": [
    "tupel = ()\n",
    "if tupel:\n",
    "    print(\"Nicht leer\")"
   ]
  },
  {
   "cell_type": "markdown",
   "metadata": {},
   "source": [
    "Testen Sie ihre Implementierung:"
   ]
  },
  {
   "cell_type": "code",
   "execution_count": null,
   "metadata": {},
   "outputs": [],
   "source": [
    "ggt(16, 20, 4, letzter=2)"
   ]
  },
  {
   "cell_type": "markdown",
   "metadata": {},
   "source": [
    "Sie können sich auch zu Testzwecken eine Eingabe für ihre Funktion generieren. Im nächsten Code Abschnitt wird eine Liste von 4er Potenzen erzeugt. Dieses Beispiel zeigt im Übrigen auch eine sinnvollere Anwendung von benannten Parametern: Die `print` Funktion gibt im Normalfall ihren ersten Parameter auf der Standardausgabe aus und schließt die Ausgabe mit einem Zeilenumbruch ab. Wenn Sie statt des Umbruchs eine andere Zeichenkette verwenden wollen, so können Sie den `end` Parameter überschreiben."
   ]
  },
  {
   "cell_type": "code",
   "execution_count": null,
   "metadata": {},
   "outputs": [],
   "source": [
    "for z in range(1,10): print(4**z, end=\", \")\n",
    "print(4**10)"
   ]
  },
  {
   "cell_type": "code",
   "execution_count": null,
   "metadata": {},
   "outputs": [],
   "source": [
    "ggt(4, 16, 64, 256, 1024, 4096, 16384, 65536, 262144)"
   ]
  },
  {
   "cell_type": "markdown",
   "metadata": {},
   "source": [
    "Im vorherigen Schritt haben wir die eine \"Liste\" von Argumenten generiert. Diese Liste ist aber nur eine Reihe von ausgegebenen Werten, kein Listen-Objekt in Python."
   ]
  },
  {
   "cell_type": "markdown",
   "metadata": {},
   "source": [
    "**Aufgabe 4**\n",
    "\n",
    "**Wandeln Sie den Test-Code für die `ggt` Funktion so um, dass sie ein Tupel-Objekt `t` and den Funktionsaufruf übergeben. Testen Sie ihre Implementierung**\n"
   ]
  },
  {
   "cell_type": "code",
   "execution_count": null,
   "metadata": {},
   "outputs": [],
   "source": [
    "l = []\n",
    "for z in range(3,11): l.append(4**z)\n",
    "t = tuple(l)\n",
    "ggt(4,16,*t)\n",
    "print(*t)\n",
    "t"
   ]
  },
  {
   "cell_type": "markdown",
   "metadata": {
    "slideshow": {
     "slide_type": "subslide"
    }
   },
   "source": [
    "Sie können zusätzlich eine variable Liste von benannten Objekten as Funktionsargument übergeben.\n",
    "Der Parameter in fer Funktion wird dann mit zwei Sternen `**` eingeleitet."
   ]
  },
  {
   "cell_type": "code",
   "execution_count": null,
   "metadata": {
    "scrolled": false
   },
   "outputs": [],
   "source": [
    "def myfunct(**kwargs):\n",
    "    print(list(kwargs.keys()))\n",
    "    print(list(kwargs.values()))\n",
    "\n",
    "myfunct(A=1, B='Zwei', C=3)"
   ]
  },
  {
   "cell_type": "markdown",
   "metadata": {
    "slideshow": {
     "slide_type": "subslide"
    }
   },
   "source": [
    "Dabei können Sie auch ein Dictionary übergeben, bei dem die Keys ausschließlich aus Stings bestehen"
   ]
  },
  {
   "cell_type": "code",
   "execution_count": null,
   "metadata": {},
   "outputs": [],
   "source": [
    "dictionary = {'Erster':1, 'Zweiter':'2ter', 'Dritter':3.0}\n",
    "myfunct(**dictionary)\n"
   ]
  },
  {
   "cell_type": "markdown",
   "metadata": {
    "slideshow": {
     "slide_type": "subslide"
    }
   },
   "source": [
    "Wenn Sie eine variable Liste unbenannter Objekte sowie eine variable Liste benannter Ojekte übergeben wollen, müssen alle unbenanten Objekte **vor** den benannten stehen."
   ]
  },
  {
   "cell_type": "code",
   "execution_count": null,
   "metadata": {},
   "outputs": [],
   "source": [
    "def myfunct(*args, **kwargs):\n",
    "    print(list(args))\n",
    "    print(list(kwargs.keys()))\n",
    "    print(list(kwargs.values()))\n",
    "\n",
    "myfunct(1, 'B', A=3, B='Vier', C=5)\n"
   ]
  },
  {
   "cell_type": "markdown",
   "metadata": {},
   "source": [
    "## Namensräume"
   ]
  },
  {
   "cell_type": "markdown",
   "metadata": {},
   "source": [
    "Beim Aufruf einer Funktion betreten Sie einen neuen Namensraum. Das ist wichtig, damit nicht alle Variablen in Ihrem Programm eindeutig definiert sein müssen."
   ]
  },
  {
   "cell_type": "markdown",
   "metadata": {},
   "source": [
    "Wenn Sie also in einer Funktion ein Objekt definieren, dessen Name bereits ausserhalb der Funktion benutzt wurde, hat der *lokale Kontext* Priorität."
   ]
  },
  {
   "cell_type": "code",
   "execution_count": null,
   "metadata": {},
   "outputs": [],
   "source": [
    "a = \"a aus main\"\n",
    "def f(a):\n",
    "    a = \"a aus f\"\n",
    "    print(a)\n",
    "\n",
    "f(a)\n",
    "a"
   ]
  },
  {
   "cell_type": "markdown",
   "metadata": {},
   "source": [
    "Sie haben allerdings auch innerhalb einer Funktion Zugriff auf den übergeordneten Kontext."
   ]
  },
  {
   "cell_type": "code",
   "execution_count": null,
   "metadata": {},
   "outputs": [],
   "source": [
    "def f():\n",
    "    print(a)\n",
    "\n",
    "a = \"a aus main\"\n",
    "f()"
   ]
  },
  {
   "cell_type": "markdown",
   "metadata": {},
   "source": [
    "Was der *übergeordnete Kontext* ist, hängt davon ab, wo die Funktion *definiert* wurde; nicht, in welchem Kontext sie aufgerufen wird."
   ]
  },
  {
   "cell_type": "code",
   "execution_count": null,
   "metadata": {},
   "outputs": [],
   "source": [
    "a = \"a aus main\"\n",
    "\n",
    "    \n",
    "def f():\n",
    "    def g():\n",
    "        print(a)\n",
    "    a = \"a aus f\"\n",
    "    g()\n",
    "\n",
    "f()"
   ]
  },
  {
   "cell_type": "markdown",
   "metadata": {},
   "source": [
    "**Aufgabe 5**\n",
    "\n",
    "**Ändern sie die Funktion f so um, dass das Resultat des Aufrufs `f()` \"a aus f\" ist.**\n"
   ]
  },
  {
   "cell_type": "code",
   "execution_count": null,
   "metadata": {},
   "outputs": [],
   "source": [
    "a = \"a aus main\"\n",
    "\n",
    "    \n",
    "def f():\n",
    "    def g():\n",
    "        print(a)\n",
    "    a = \"a aus f\"\n",
    "    g()\n",
    "\n",
    "f()"
   ]
  },
  {
   "cell_type": "markdown",
   "metadata": {},
   "source": [
    "Sobald Sie aus einer Funktion heraus schreibend auf eine globale Variable zugreifen wollen, wird eine lokale Kopie der Variablen erzeugt. Der Wert der Variablen im globalen Kontext bleibt erhalten. Um auch verändernd auf den globalen Namensraum zugreifen zu können, gibt es das Schlüsselwort `global`."
   ]
  },
  {
   "cell_type": "markdown",
   "metadata": {},
   "source": [
    "**Aufgabe 6**\n",
    "\n",
    "**Ändern Sie die Funktion f so um, dass das Resultat des Aufrufs `print(a)` im folgenden Code Abschnitt \"a aus f\" ist.**"
   ]
  },
  {
   "cell_type": "code",
   "execution_count": null,
   "metadata": {},
   "outputs": [],
   "source": [
    "def f():\n",
    "    global a\n",
    "    a = \"a aus f\"\n",
    "\n",
    "a = \"a aus main\"\n",
    "f()\n",
    "print(a)\n",
    "    "
   ]
  },
  {
   "cell_type": "markdown",
   "metadata": {},
   "source": [
    "Mit `global` greifen Sie immer auf den globalen Namensraum des Moduls zu. Es kann aber Fälle geben, in denen Sie nicht auf den globalen, sondern den nächst höheren Kontext zugreifen wollen. Dies kann über das Schlüsselwort `nonlocal` erreicht werden. Wenn Sie im folgenden Code Abschnitt `global` durch `nonlocal` ersetzen, erreichen Sie das gewünschte Verhalten."
   ]
  },
  {
   "cell_type": "code",
   "execution_count": null,
   "metadata": {},
   "outputs": [],
   "source": [
    "def f():\n",
    "    a = \"Bitte überschreiben!\"\n",
    "    def g():\n",
    "        nonlocal a\n",
    "        a = \"Neues a\"\n",
    "    print(\"Altes a in f: \", a)\n",
    "    g()\n",
    "    print(\"Neues a in f: \", a)\n",
    "\n",
    "\n",
    "a = \"Bitte nicht überschreiben!\"\n",
    "f()\n",
    "print(a)"
   ]
  },
  {
   "cell_type": "markdown",
   "metadata": {},
   "source": [
    "## Anonyme Funktionen"
   ]
  },
  {
   "cell_type": "markdown",
   "metadata": {},
   "source": [
    "In Python (wie auch in vielen anderen Programmiersprachen) ist es möglich, (Zeiger auf) Funktionen als Argumente an andere Funktionen zu übergeben. Normalerweise muss hierzu die zu übergebende Funktion zuvor definiert werden. Bei Funktionen mit nur sehr wenigen Anweisungen kann dies zu unübersichtlichen Code führen.  \n",
    "Anonyme Funktionen (oder auch *Lambda Funktionen*) bieten eine Möglichkeit, eine Funktion direkt in einem anderen Ausdruck anzugeben, ohne die Funktion selbst zuvor zu definieren. Eine Summenfunktion kann etwa mit dem Ausdruck `lambda x, y: x+y` beschrieben werden, besitzt aber in dieser Form keinen Namen.  "
   ]
  },
  {
   "cell_type": "markdown",
   "metadata": {},
   "source": [
    "Es ist aber durchaus möglich, einer Lambda Funktion eine Variable zuzuweisen, über dessen Namen die Funktion im folgenden aufgerufen werden kann:"
   ]
  },
  {
   "cell_type": "code",
   "execution_count": null,
   "metadata": {},
   "outputs": [],
   "source": [
    "s = lambda x, y: x+y\n",
    "s(4,5)"
   ]
  },
  {
   "cell_type": "markdown",
   "metadata": {},
   "source": [
    "Eine \"generische Funktion\", die eine beliebige Funktion `f` auf 2 Argumente `a` und `b` anwendet und das Resultat zurückgibt, kann folgendermaßen beschrieben werden:"
   ]
  },
  {
   "cell_type": "code",
   "execution_count": null,
   "metadata": {},
   "outputs": [],
   "source": [
    "def wasauchimmer(a,b,f):\n",
    "    return f(a,b)"
   ]
  },
  {
   "cell_type": "markdown",
   "metadata": {},
   "source": [
    "Mittels anonymer Funktionen kann diese \"generische Funktion\" nun direkt benutzt werden, ohne die jeweiligen Funktionen `f` vorher zu definieren: "
   ]
  },
  {
   "cell_type": "code",
   "execution_count": null,
   "metadata": {},
   "outputs": [],
   "source": [
    "wasauchimmer(4, 5, lambda x, y: x*y)"
   ]
  },
  {
   "cell_type": "markdown",
   "metadata": {},
   "source": [
    "**Aufgabe 7**\n",
    "\n",
    "**Implementieren Sie die Funktion `mymap` im folgenden Code Abschnitt soweit aus, dass die Funktion `f` auf alle Elemente der Liste `l` angewendet wird. Die so berechneten Elemente sollen in einer neuen Liste zusammengefasst werden, welche als Resultat der Funktion zurückgegeben wird. Testen Sie die Funktion mit 2 verschiedenen Lambda Funktionen ($x\\mapsto{}x+1$ und $x\\mapsto{}x^2$).**"
   ]
  },
  {
   "cell_type": "code",
   "execution_count": null,
   "metadata": {},
   "outputs": [],
   "source": [
    "def mymap(l, f):\n",
    "    local_l = []\n",
    "    for e in l: local_l.append(f(e))\n",
    "    return local_l\n",
    "\n",
    "l = []\n",
    "for z in range(10): l.append(z)\n",
    "print(l)\n",
    "print(mymap(l, lambda x: x+1))\n",
    "print(mymap(l, lambda x: x*x))"
   ]
  },
  {
   "cell_type": "markdown",
   "metadata": {},
   "source": [
    "# Beispiele für Pakete aus der Standardbibliothek (und Drittanbieter-Pakete)\n",
    "In diesem Arbeitsblatt geht es um weiterführende Themen rund um die Programmiersprache Python. Zu der enormen Popularität von Python hat nicht zuletzt die Vielzahl an frei verfügbaren Paketen zu verschiedensten Anwendungsgebieten beigetragen. Durch den Einsatz bestehender Module lassen sich Entwicklungszeiten drastisch verkürzen. Zusammen mit der relativ leichten Erlernbarkeit, hat dies Python den Ruf eingebracht, eine sehr produktive Programmiersprache zu sein.\n",
    "\n",
    "In den folgenden Abschnitten werden die Themen Web-Zugriffe, Server-seitige Programmierung, Wissenschaftliches Rechnen und GUI-Programmierung kurz angerissen. Die Behandlung der Themen ist weder vollständig noch repräsentativ. Es soll lediglich darum gehen, Einblicke in verschiedene Aspekte zu vermitteln und Sie motivieren, im Selbststudium etwas tiefer in die vorgestellten, oder auch weitere Themen rund um Python einzusteigen."
   ]
  },
  {
   "cell_type": "markdown",
   "metadata": {},
   "source": [
    "## 1. Installieren von Drittanbieter-Paketen\n",
    "\n",
    "Um Pakete von Drittanbietern zu installieren, sollten Sie in jedem Fall einen Paketmanager benutzen. Der am meisten verwendete Paketmanager für Python ist [pip](https://pip.pypa.io/en/stable/). Mit diesem Tool können Sie auf die Pakete zugreifen, die im _Python Package Index_ ([PyPI](https://pypi.org)) enthalten sind. Ab Version 3.4 ist pip bereits in der Python Standard-Distribution enthalten.\n",
    "Um ein Paket zu installieren, führen Sie folgendes Kommando (auf der Kommandozeile) aus:\n",
    "```python\n",
    "pip3 install <paketname>\n",
    "```\n",
    "So aufgerufen, versucht _pip_ das Paket _systemweit_ im Python-Installationspfad zu installieren. Falls Sie nicht als Administrator auf Ihrem Computer angemeldet sind, kann dies zu Problemen führen. Daher wird allgemein empfohlen, dass Nutzer zusätzliche Pakete innerhalb von _Virtuellen Umgebungen_ ([virtualenv](https://packaging.python.org/guides/installing-using-pip-and-virtualenv/)) zu installieren.\n",
    "Eine Alternative dazu ist, neue Pakete in einem Dateipfad zu installieren, auf den der Benutzer vollen Zugriff hat. Im  Python-Interpreter sind verschiedene Suchpfade bereits voreingestellt, in denen zur Laufzeit eines Programms nach verwendeten Paketen (siehe `import`-Anweisung) gesucht wird. Die entsprechenden Dateipfade sind natürlich vom dem verwendeten Betriebssystem abhängig und können z.B. wie folgt mit Python selbst gelistet werden:"
   ]
  },
  {
   "cell_type": "code",
   "execution_count": null,
   "metadata": {},
   "outputs": [],
   "source": [
    "import sys\n",
    "for path in sys.path:\n",
    "    print(path)"
   ]
  },
  {
   "cell_type": "markdown",
   "metadata": {},
   "source": [
    "Um ein Paket zu installieren, können Sie prinzipiell auch `!pip install` aufrufen.\n",
    "Dies hat aber einen Nachteil: Ihr Jupyter Notebook könnte eine Python Installation verwenden, die nicht die standard Python Installation auf Ihrem System ist. Der `pip`-Aufruf würde das Paket dann in diese Installation integrieren und Sie könnten es aus dem Notebook heraus nicht verwenden.\n",
    "\n",
    "Daher ist es besser, die Python-Version zu verwenden, die Ihr Notebook benutzt.\n",
    "Unter welchem Programmpfad der Python-Interpreter abgelegt ist, den das Notebook verwendet, kann man ebenfalls über das Modul `sys` herausfinden. `sys.executable` lifert den kompletten Pfad zum Python-Kommando.\n",
    "Dies ruft man über das `!` Zeichen in der *Shell* auf und verwendet die Option `-m` mit dem Modul `pip`.\n",
    "Mit `-m` kann man ein Modul wie ein Skript ausführen.\n",
    "Über das Kommando `install` kann dann ein Modul, z.B. `python-chess` installiert werden."
   ]
  },
  {
   "cell_type": "code",
   "execution_count": null,
   "metadata": {},
   "outputs": [],
   "source": [
    "import sys\n",
    "!{sys.executable} -m pip install python-chess"
   ]
  },
  {
   "cell_type": "markdown",
   "metadata": {},
   "source": [
    "Mit _pip_ können Sie bequem Python Pakete installieren und verwalten. _pip_ stößt aber an seine Grenzen, wenn man Abhängigkeiten installieren möchte, die nicht als Python Paket vorliegen. Beispiele dafür sind laufzeitoptimierte Bibliotheken für mathematisch/wissenschaftliche Zwecke, die oftmals in maschinennahen Code vorliegen (z.B. in C entwickelt und für eine entsprechende _Hardware Architektur_ kompiliert).\n",
    "\n",
    "Hier schaffen Python Distributionen Abhilfe, die auch diese Abhängigkeiten enthalten und bei Bedarf mitinstallieren.\n",
    "[Anaconda](https://www.anaconda.com/distribution/) ist ein Beispiel für eine solche Distribution. Der Paketmanager in Anaconda heißt _conda_ und lässt sich ähnlich wie _pip_ bedienen."
   ]
  },
  {
   "cell_type": "markdown",
   "metadata": {},
   "source": [
    "## 2. Bibliotheken einsetzen"
   ]
  },
  {
   "cell_type": "markdown",
   "metadata": {},
   "source": [
    "Dank Pythons großer Entwickler-Community existiert eine riesige Menge an nützlichen Modulen, nicht nur in der umfangreichen Standardbibliothek sinder vor allem in den öffentlichen Repositories wie dem *Python Package Index*.\n",
    "\n",
    "Wenn Sie ein Drittanbieter-Paket wie *python-chess* verwenden, ist die zugehöre Dokumentation in der Regel über das Web verfügbar."
   ]
  },
  {
   "cell_type": "code",
   "execution_count": null,
   "metadata": {},
   "outputs": [],
   "source": [
    "import webbrowser\n",
    "url = 'https://python-chess.readthedocs.io/en/latest/'\n",
    "webbrowser.open(url)"
   ]
  },
  {
   "cell_type": "markdown",
   "metadata": {},
   "source": [
    "Wenn Sie ein passendes Paket gefunden haben, können Sie dies häufig mit recht wenigen Schritten für Ihre Anwendung verwenden.\n",
    "\n",
    "Im Folgenden Beispiel wollen wir ein Simples Schachprogramm schreiben. Es soll einen menschlichen und einen Computer-Spieler geben.\n",
    "Das Modul *python-chess* liefert fast alles, was man dazu benötigt."
   ]
  },
  {
   "cell_type": "code",
   "execution_count": null,
   "metadata": {},
   "outputs": [],
   "source": [
    "import chess\n",
    "board = chess.Board()\n",
    "board"
   ]
  },
  {
   "cell_type": "code",
   "execution_count": null,
   "metadata": {},
   "outputs": [],
   "source": [
    "move = chess.Move.from_uci('e2e4')\n",
    "board.push(move)\n",
    "board"
   ]
  },
  {
   "cell_type": "markdown",
   "metadata": {},
   "source": [
    "Schwieriger ist es an dieser Stelle, die Ein- und Ausgaben für das Modul entsprechend einzustellen.\n",
    "Die Züge sollen schließlich nicht über den Quelltext des Programms eingegeben werden.\n",
    "Außerdem ist es unübersichtlich, wenn jede neue Spielsituation in einer neuen, zusätzlichen Ausgabe erscheinen.\n",
    "\n",
    "Die Eingabe des Zuges können wir über die Python Eingabe-Funktion `input()` erledigen, die vom Benutzer eine Tastatureingabe abfragt."
   ]
  },
  {
   "cell_type": "code",
   "execution_count": null,
   "metadata": {},
   "outputs": [],
   "source": [
    "text = input()\n",
    "print(\"Sie haben \" + text + \" eingegeben!\")"
   ]
  },
  {
   "cell_type": "markdown",
   "metadata": {},
   "source": [
    "Um die Ausagben in einem Notebook schöner darzustellen kann man einige Funktionen aus dem Modul `IPython.display` verwenden:\n",
    "\n",
    "- `IPython.display.SVG` Stellt ein svg-Bild dar\n",
    "- `clear_output` löscht die Ausgabe einer Code-Zelle"
   ]
  },
  {
   "cell_type": "code",
   "execution_count": null,
   "metadata": {},
   "outputs": [],
   "source": [
    "import webbrowser\n",
    "url = 'https://ipython.readthedocs.io/en/stable/api/generated/IPython.display.html'\n",
    "webbrowser.open(url)"
   ]
  },
  {
   "cell_type": "markdown",
   "metadata": {},
   "source": [
    "Um Züge darzustellen, kann man dann folgendes Muster verwenden."
   ]
  },
  {
   "cell_type": "code",
   "execution_count": null,
   "metadata": {
    "scrolled": false
   },
   "outputs": [],
   "source": [
    "import chess, time\n",
    "from IPython.display import SVG, clear_output\n",
    "\n",
    "sizilianisch = ['e2e4','c7c5','g1f3','d7d6','d2d4','c5d4']\n",
    "\n",
    "board = chess.Board()\n",
    "display(SVG(board._repr_svg_()))\n",
    "for zug in sizilianisch:\n",
    "    time.sleep(1)\n",
    "    board.push(chess.Move.from_uci(zug))\n",
    "    clear_output(wait=True)\n",
    "    display(SVG(board._repr_svg_()))"
   ]
  },
  {
   "cell_type": "markdown",
   "metadata": {},
   "source": [
    "Um nun ein sipmples Schachprogramm zu schreiben, ist die Funktion `list(board.legal_moves)` hilfreich.\n",
    "Damit kann man eine Liste der aktuell auf dem Speilbrett gültigemn Züge berechen lassen.\n",
    "\n",
    "Nutzen Sie die beschribenen (und weitere) Funktionen, um ein Schachprogramm zu schreiben.\n",
    "Es ist Ihnen überlassen, wie *schlau* Ihr Computerprogramm spielt und welchen Funktionsumfang es hat."
   ]
  },
  {
   "cell_type": "code",
   "execution_count": null,
   "metadata": {},
   "outputs": [],
   "source": []
  },
  {
   "cell_type": "markdown",
   "metadata": {},
   "source": [
    "## 3. Web-Zugriffe mit der *Requests* Bibliothek\n",
    "**Hinweis: Das Lehrbuch behandelt ausschließlich die *urllib* und zwar auf den Seiten 643-651.**\n",
    "\n",
    "[Requests](http://docs.python-requests.org/de/latest/user/quickstart.html) ist eine frei verfügbare Python Bibliothek zum Durchführen von HTTP-Anfragen. Im Vergleich zu der in der Standardbibliothek enthaltenen _urllib_ führt der Einsatz der _requests_ Bibliothek meistens zu etwas kürzerem und übersichtlicherem Code.\n",
    "\n",
    "Vom Funktionsumfang sind beide Bibliotheken sehr ähnlich. Sie erlauben den (lesenden und schreibenden) Zugriff auf URL-Ressourcen über verschiedene Methoden.\n",
    "\n",
    "Mittels `r = requests.get(<URL>)` kann eine Internetseite gelesen werden. Auf den Inhalt der Seite kann dann z.B. mit `r.text` (Inhalt als Schriftzeichen) oder `r.content` (Inhalt als Rohdaten/Bytes) zugegriffen werden."
   ]
  },
  {
   "cell_type": "markdown",
   "metadata": {},
   "source": [
    "Im folgenden Beispiel wird der aktuelle Börsenkurs einiger US-Unternehmen vom [Yahoo! Finance Portal](finance.yahoo.com) ausgelesen.\n",
    "Die Börsen-Kürzel von *Apple*, *Facebook*, *Google*, *Netflix* und *Microsoft* stehen im Dictionary `stocks`.\n",
    "Mit der `get`-Methode laden wir die entsprechende Seite unter Angabe des Query -Parameters `s` herunter.\n",
    "\n",
    "Den Inhalt (ASCII-Text) der Seite erhalten wor über das Attribut `page.text`.\n",
    "Darauf wir ein [Regulärer Ausdruck](https://docs.python.org/3/library/re.html) angewendet, der im html-Code nach dem ersten Auftreten eines HTML-Tags `<span class=\"Trsdu` sucht.\n",
    "Wir überspringen die nächsten Zeichen, bis zum abschließenden `>` des Tags.\n",
    "Die nächsten Zeichen (bis ausschließlich dem abschließenden `</span>` markieren wir mit dem Regulären Ausdruck `(.*?)` als Gruppe.\n",
    "\n",
    "Mit `re.search(pattern,page.text)` finden wir das erste Auftreten des Musters im HTML-Text.\n",
    "Aus der Fundstelle wird dann die erste Gruppe mit `group(1)` extrahiert und ausgegeben."
   ]
  },
  {
   "cell_type": "code",
   "execution_count": null,
   "metadata": {},
   "outputs": [],
   "source": [
    "import requests\n",
    "import re\n",
    "\n",
    "stocks = {'Apple': 'aapl', 'Facebook':'fb', 'Google':'goog', 'Netflix':'nflx', 'Microsoft':'msft'}\n",
    "\n",
    "for comp in stocks:\n",
    "    page = requests.get(\"https://finance.yahoo.com/q?s={}\".format(stocks[comp]))\n",
    "    #<span class=\"Trsdu(0.3s) Fw(b) Fz(36px) Mb(-4px) D(ib)\" data-reactid=\"32\">1,326.80</span>\n",
    "    regex = '<span class=\"Trsdu.*?>(.*?)</span>'\n",
    "    pattern = re.compile(regex)\n",
    "    match = re.search(pattern,page.text)\n",
    "    print(\"Der Kurs von {} ist ${}\".format(comp, match.group(1)))\n"
   ]
  },
  {
   "cell_type": "markdown",
   "metadata": {},
   "source": [
    "Das gleiche kann man auch über die _urllib_ aus der Standardbibliothek erreichen, allerdings ist der Code etwas komplexer. Hier sind z.B. einige zusätzliche Aufrufe nötig um den Zugriff auf eine verschlüsselte _https_ Seite zu ermöglichen."
   ]
  },
  {
   "cell_type": "code",
   "execution_count": null,
   "metadata": {},
   "outputs": [],
   "source": [
    "import urllib\n",
    "import ssl\n",
    "import re   \n",
    "    \n",
    "stocks = {'Apple': 'aapl', 'Facebook':'fb', 'Google':'goog', 'Netflix':'nflx', 'Microsoft':'msft'}\n",
    "\n",
    "for comp in stocks:\n",
    "    url = \"https://finance.yahoo.com/q?s={}\".format(stocks[comp])\n",
    "    ssl_handler = urllib.request.HTTPSHandler(context=ssl.SSLContext())\n",
    "    opener = urllib.request.build_opener(ssl_handler)\n",
    "    urllib.request.install_opener(opener)\n",
    "    resp = opener.open(url)\n",
    "    page = resp.read().decode('utf-8')\n",
    "\n",
    "    #<span class=\"Trsdu(0.3s) Fw(b) Fz(36px) Mb(-4px) D(ib)\" data-reactid=\"32\">1,326.80</span>\n",
    "    regex = '<span class=\"Trsdu.*?>(.*?)</span>'\n",
    "    pattern = re.compile(regex)\n",
    "    match = re.search(pattern,page)\n",
    "    print(\"Der Kurs von {} ist ${}\".format(comp, match.group(1)))\n"
   ]
  },
  {
   "cell_type": "markdown",
   "metadata": {},
   "source": [
    "Man kann die _requests_ Bibliothek auch verwenden um Binärdaten, wie z.B. Bilder, aus dem Internet zu laden. Im folgenden Beispiel laden wir eine _png_ Datei von _wikimedia.org_ und speichern sie lokal ab."
   ]
  },
  {
   "cell_type": "code",
   "execution_count": null,
   "metadata": {},
   "outputs": [],
   "source": [
    "import requests\n",
    "url = \"https://upload.wikimedia.org/wikipedia/commons/thumb/8/87/Karl_Marx.png/478px-Karl_Marx.png\"\n",
    "r = requests.get(url)\n",
    "if r.status_code == 200:\n",
    "    try:\n",
    "        f = open(\"image.png\", 'wb')\n",
    "        f.write(r.content)\n",
    "    except:\n",
    "        print(\"Irgendetwas ist schief gegangen!\")\n",
    "\n",
    "from IPython.display import Image\n",
    "Image(filename = \"image.png\")"
   ]
  },
  {
   "cell_type": "markdown",
   "metadata": {},
   "source": [
    "## 4. Webserver-Entwicklung mit _Flask_\n",
    "**Hinweis: Das Lehrbuch verwendet _Django_ (Kapitel 40, Seiten 889-938) als Beispiel für die Web-Anwendungsentwicklung mit Python. Flask wird im Lehrbuch nicht behandelt.**\n",
    "\n",
    "Mit den Paketen _request_ oder _urllib_ können Sie Zugriffe auf Inhalte durchführen, die auf Web-Servern verfügbar sind. Sie können aber auch mit sehr einfachen Mitteln eigene Web-Anwendungen mit Python implementieren. Ein Paket dazu, dass sich in den letzten Jahren wachsender Beliebtheit erfreut, ist [_Flask_](http://flask.pocoo.org). \n",
    "\n",
    "Flask bezeichnet sich als Micro-Framework für Web-Anwendungen. Das Paket enthält einen elementaren Web-Server, der vor allem bei der Entwicklung der Web-Anwendungen benutzt wird. Im Produktiveinsatz können Flask-Anwendungen über nahezu beliebige Webserver bereitgestellt werden.\n",
    "\n",
    "Flask und seine Abhängigkeiten (z.B. die [_Template Engine_](https://de.wikipedia.org/wiki/Template-Engine) _Jinja2_ und die [_WSGI_](https://de.wikipedia.org/wiki/Web_Server_Gateway_Interface) Bibliothek _Werkzeug_) können bequem über den Paketmanager _pip_ installiert werden. (Hinweis: Die aktuelle flask Version scheint ein Problem mit Jupyter zu haben. [Hier](https://github.com/plotly/dash/issues/257) ist ein work-around beschrieben um das \"Not writable\"-Problem zu umgehen.)"
   ]
  },
  {
   "cell_type": "code",
   "execution_count": null,
   "metadata": {},
   "outputs": [],
   "source": [
    "import sys\n",
    "!{sys.executable} -m pip install python-chess flask"
   ]
  },
  {
   "cell_type": "markdown",
   "metadata": {},
   "source": [
    "Mit dem Dekorator `route` kann eine Funktion an eine bestimmten URL-Pfad gebunden werden. Wird diese URL zugegriffen, so wird die entsprechende Funktion serverseitig ausgeführt. Der URL-Pfad kann auch Variablen enthalten, diese sind mit spitzen Klammern markiert (z.B. `<name>`).  "
   ]
  },
  {
   "cell_type": "code",
   "execution_count": null,
   "metadata": {},
   "outputs": [],
   "source": [
    "import webbrowser\n",
    "from flask import Flask\n",
    "app = Flask(__name__)\n",
    "\n",
    "\n",
    "@app.route('/')\n",
    "def hello():\n",
    "    return \"Hello World!\"\n",
    "\n",
    "@app.route('/<name>')\n",
    "def hello_name(name):\n",
    "    return \"Hallo %s!\" % name\n",
    "\n",
    "webbrowser.open(\"http://127.0.0.1:5000/Heiner\")\n",
    "\n",
    "# Der folgende Aufruf blockiert und muss über\n",
    "# Kernel->Interrupt gestoppt werden:\n",
    "app.run()"
   ]
  },
  {
   "cell_type": "markdown",
   "metadata": {},
   "source": [
    "**Erweitern Sie die obige Flask-Applikation um eine Methode `umdrehen` die ein Wort \"umgedreht\" ausgibt. Die Methode soll über die URL `/umdrehen/<wort>` erreichbar sein.**"
   ]
  },
  {
   "cell_type": "code",
   "execution_count": null,
   "metadata": {},
   "outputs": [],
   "source": []
  },
  {
   "cell_type": "markdown",
   "metadata": {},
   "source": [
    "## 5. Wissenschaftliches Rechnen mit Numpy, Scipy und Matplotlib\n",
    "**Hinweis: Dieses Thema wird im Lehrbuch auf den Seiten 939-959 behandelt.**\n",
    "\n",
    "Python hat sich in den letzten Jahren als Standard-Programmiersprache in Bereichen des Wissenschaftlichen Rechnens und der Datenanalysen etabliert. Dies ist auch schon anhand der Vielzahl von Buchveröffentlichungen zu dem Thema zu erkennen."
   ]
  },
  {
   "cell_type": "markdown",
   "metadata": {},
   "source": [
    "Auf den ersten Blick erscheint der Einsatz von Python in diesem Bereich etwas unerwartet, denn ingenieursmäßige oder naturwissenschaftliche Anwendungen erfordern oft eine hohe Rechenleistung. Python, als interpretierte Programmiersprache ist in Punkto Performanz kompilierten Sprachen (wie etwa C/C++) normalerweise unterlegen. \n",
    "Mehrere Aspekte sprechen allerdings für den Einsatz von Skriptsprachen im wissenschaftlichen Rechnen:\n",
    "1. Skriptsprachen erlauben häufig eine deutlich kompaktere und übersichtliche Programmstruktur. Bei Aufgaben, in denen es vor allem um eine korrekte und nachvollziehbare Implementierung eines algorithmischen Verfahrens geht, ist dies besonders wichtig.\n",
    "2. Der Umfang an (frei verfügbaren) Bibliotheken und Paketen für Python ist enorm, was Entwicklern die Arbeit ungemein erleichtert. Außerdem ist der Einsatz von Drittanbieter-Software sehr einfach. Pakete sind direkt auf allen Plattformen lauffähig und müssen nicht, wie in kompilierten Programmiersprachen, zunächst in Maschinencode übersetzt werden. \n",
    "3. Die laufzeitkritischen Elemente vieler Algorithmen lassen sich auf wenige *Standardroutinen* reduzieren. Für diese Routinen gibt es oft hoch-effiziente Implementationen, die sogar auf die speziellen Eigenschaften der vorliegen CPU optimiert werden. Sind solche Bibliotheken auf dem Computer verfügbar, so können sie von Python aus benutzt werden. Die rechenintensiven Teile eines Programms werden dann nicht mehr im Python Interpreter ausgeführt, sondern durch eine externe Bibliothek. Somit können die Performanz-Nachteile, die Python als interpretierte Sprache mitbringt, weitestgehend bereinigt werden.\n",
    "\n",
    "In der Vielzahl der verfügbaren Pakete für numerische Berechnungen mit Python gibt es einige Bibliotheken, die als quasi-Standard die Basis für viele Anwendungen und andere Pakete bilden:\n",
    "\n",
    "**NumPy** ist die elementare Python-Bibliothek für wissenschaftliches Rechnen. NumPy definiert Objekte für mehrdimensionale Arrays und Matrizen sowie mathematische Grundoperationen auf diesen Objekten. NumPy's \"Datentypen\" sind zwar eingeschränkter als die bekannten sequentiellen Typen in Python (*list*, *tuple*, etc.), dafür sind die Daten aber kompakter im Hauptspeicher abgelegt, so dass Operationen auf mehrdimensionalen Arrays effizienter durchgeführt werden können. Für Vektor- und Matrix-Operationen besitzt NumPy effiziente Implementierungen und benutzt, sofern auf dem Computer installiert, optimierte Bibliotheken für *Lineare Algebra* ([BLAS](https://de.wikipedia.org/wiki/Basic_Linear_Algebra_Subprograms) und [LAPACK](https://de.wikipedia.org/wiki/LAPACK))\n",
    "\n",
    "**SciPy** ist eine Bibliothek von Mathematischen Algorithmen die größtenteils auf NumPy aufbauen. SciPy ist sehr umfangreich und enthält unter anderem Module zur numerischen Berechnung von Integralen, zum Lösen von Differentialgleichungen, zur Berechnung von Optimierungsproblemen, zur digitalen Signalverarbeitung und zur Datenvisualisierung.\n",
    "\n",
    "**Matplotlib** ist die Standard-Bibliothek zum Erstellen von (mathematischen) Diagrammen. Sie Syntax von matplotlib orientiert sich an den Diagramm-Funktionen von [Matlab](https://de.mathworks.com) was Entwicklern den Umstieg von dem kommerziellen Tool auf Python deutlich erleichtert."
   ]
  },
  {
   "cell_type": "markdown",
   "metadata": {
    "collapsed": true
   },
   "source": [
    "### NumPy"
   ]
  },
  {
   "cell_type": "markdown",
   "metadata": {},
   "source": [
    "Im wissenschaftlichen Rechnen und in den datengetriebenen Wissenschaften sind Berechnungen mit Vektoren und Matrizen allgegenwärtig.\n",
    "In NumPy werden diese mathematischen Datenstrukturen als n-dimensionale Arrays mit dem Datentyp `ndarray` abgebildet. Wenn Sie die NumPy-Bibliothek mittels `import numpy as np` eingebunden haben, können Sie ein NumPy Array mit der Funktion `np.array()` anlegen:"
   ]
  },
  {
   "cell_type": "code",
   "execution_count": null,
   "metadata": {},
   "outputs": [],
   "source": [
    "import numpy as np\n",
    "x = np.array([1,2,3])\n",
    "print(x, type(x))"
   ]
  },
  {
   "cell_type": "markdown",
   "metadata": {},
   "source": [
    "Es gibt auch den Datentyp `matrix` in NumPy. Dieser Typ ist von `ndarray` abgeleiteten.\n",
    "Matrizen haben immer 2-dimensionale Struktur und Operatoren funktionieren etwas anders als bei \"normalen\" NumPy Arrays.\n",
    "Um Missverständnisse zu vermeiden, werden wir im folgenden vornehmlich den Typ `ndarray` benutzen."
   ]
  },
  {
   "cell_type": "markdown",
   "metadata": {},
   "source": [
    "Ein `ndarray` kann aus Folgen von Zahlen gebildet werden. Dies sind üblicherweise Tupel oder Listen. Die Dokumentation zur Funktion `array` sagt, dass ein *Array-artiger* Parameter übergeben werden soll. Es ist also so, dass alle Objekte, *die NumPy zu einem Array konvertieren kann*, an dieser Stelle Funktionieren:"
   ]
  },
  {
   "cell_type": "code",
   "execution_count": null,
   "metadata": {
    "scrolled": true
   },
   "outputs": [],
   "source": [
    "a = np.array([1, 7, 1, 2])\n",
    "b = np.array((1, 7, 1, 2))\n",
    "print(\"a: %s\" % a)\n",
    "print(\"b: %s\" % b)"
   ]
  },
  {
   "cell_type": "markdown",
   "metadata": {},
   "source": [
    "Auf einzelne Elemente von eindimensionalen Arrays greift man über einen \"einfachen\" Index in `[]`-Klammern zu.\n",
    "Bei mehrdimensionalen Arrays werden die Zugriffe etwas komplizierter."
   ]
  },
  {
   "cell_type": "code",
   "execution_count": null,
   "metadata": {},
   "outputs": [],
   "source": [
    "b[2]"
   ]
  },
  {
   "cell_type": "markdown",
   "metadata": {},
   "source": [
    "NumPy liefert auch einige Funktionen, um spezielle Arrays zu erzeugen. Über `arange` können z.B. Arrays über Zahlenfolgen gebildet werden:"
   ]
  },
  {
   "cell_type": "code",
   "execution_count": null,
   "metadata": {},
   "outputs": [],
   "source": [
    "a = np.arange(8)\n",
    "a"
   ]
  },
  {
   "cell_type": "markdown",
   "metadata": {},
   "source": [
    "Die Länge eines Arrays erhält man über das Attribut `size`:\n"
   ]
  },
  {
   "cell_type": "code",
   "execution_count": null,
   "metadata": {},
   "outputs": [],
   "source": [
    "a.size"
   ]
  },
  {
   "cell_type": "markdown",
   "metadata": {},
   "source": [
    "Die Dimension wiederum, kann man mit dem Attribut `ndim` abfragen. Eindimensionalen Arrays haben die Dimension 1. Wir werden diese Arrays von nun an auch **Vektoren** nennen. Für zweidimensionale Arrays verwenden wir auch den Begriff **Matrix**."
   ]
  },
  {
   "cell_type": "code",
   "execution_count": null,
   "metadata": {},
   "outputs": [],
   "source": [
    "a.ndim"
   ]
  },
  {
   "cell_type": "markdown",
   "metadata": {},
   "source": [
    "Als eine Art Kombination der Attribute `size` und `ndim` kann man `shape` verstehen.\n",
    "Dieses Attribut liefert ein Tupel mit `ndim`-Elementen zurück, wobei das $i$-te Element die Größe der $i$-ten Dimension angibt. (Vielleicht fragen Sie sich, warum in dem Tupel `(8,)` das einzelne Komma steht? Das ist dazu da, die Schriftweise eindeutig zu halten. Ansonsten könnte man die Ausgabe mit einem `int` in Klammern verwechseln.)"
   ]
  },
  {
   "cell_type": "code",
   "execution_count": null,
   "metadata": {},
   "outputs": [],
   "source": [
    "a.shape"
   ]
  },
  {
   "cell_type": "markdown",
   "metadata": {},
   "source": [
    "Die Indizierung von NumPy Arrays beginnt immer bei der $0$.\n",
    "Neben der Adressierung von konkreten Indizes gibt es noch weitere Zugriffsregeln:"
   ]
  },
  {
   "cell_type": "code",
   "execution_count": null,
   "metadata": {},
   "outputs": [],
   "source": [
    "print(a[0])     # Das erste Element\n",
    "print(a[-1])    # Das letzte Element\n",
    "print(a[2:7])   # Die Elemente von Index 2 bis 7 (ausschließlich)\n",
    "print(a[2:7:2]) # Wie oben, nur mit einer Schrittweite von 2\n",
    "print(a[::3])   # Alle Elemente mit einer Schrittweite von 3"
   ]
  },
  {
   "cell_type": "markdown",
   "metadata": {},
   "source": [
    "### Mehrdimensionale Arrays\n",
    "\n",
    "Wie schon angesprochen, ist `ndarray` ein mehrdimensionaler Datentyp. Sie können also ohne Weiteres NumPy Arrays aus verschachtelten Listen oder Array erzeugen:"
   ]
  },
  {
   "cell_type": "code",
   "execution_count": null,
   "metadata": {},
   "outputs": [],
   "source": [
    "a = np.arange(6)\n",
    "b = np.arange(6,12)\n",
    "c = np.arange(12,18)\n",
    "d = np.arange(18,24)\n",
    "A = np.array((a,b,c,d))\n",
    "A"
   ]
  },
  {
   "cell_type": "markdown",
   "metadata": {},
   "source": [
    "Dabei müssen aber immer alle niedrigeren Dimensionen voll besetzt sein, damit `np.array` ein \"echtes\" Array generieren kann:"
   ]
  },
  {
   "cell_type": "code",
   "execution_count": null,
   "metadata": {},
   "outputs": [],
   "source": [
    "A = np.array([[ 0,  1,  2,  3,  4,  5],\n",
    "       [ 6,  7,  8,  9, 10, 11],\n",
    "       [12, 13, 14, 15, 16, 17],\n",
    "       [18, 19, 20, 21, 22, 23]])\n",
    "A"
   ]
  },
  {
   "cell_type": "markdown",
   "metadata": {},
   "source": [
    "Passen die Größen der einzelnen Vektoren oder Matrizen nicht zusammen, so liefert die Funktion ein vermutlich ungewolltes Resultat. Im folgenden Beispiel, hat die 3. Zeile der Matrix nur 2 Elemente, und nicht 6 wie alle anderen. `np.array` legt daher ein eindimensionales Array mit Listen als Elemente an: "
   ]
  },
  {
   "cell_type": "code",
   "execution_count": null,
   "metadata": {},
   "outputs": [],
   "source": [
    "B = np.array([[ 0,  1,  2,  3,  4,  5],\n",
    "       [ 6,  7,  8,  9, 10, 11],\n",
    "       [12, 13],\n",
    "       [18, 19, 20, 21, 22, 23]])\n",
    "B"
   ]
  },
  {
   "cell_type": "markdown",
   "metadata": {},
   "source": [
    "Einzelne Elemente eines mehrdimensionalen `ndarrays` adressieren Sie mit einer Folge von Index-Klammern. `A[3][1]` z.B. liefert das zweite Element der vierten Zeile der Matrix."
   ]
  },
  {
   "cell_type": "code",
   "execution_count": null,
   "metadata": {},
   "outputs": [],
   "source": [
    "A[3][1]"
   ]
  },
  {
   "cell_type": "markdown",
   "metadata": {},
   "source": [
    "Etwas komplizierter wird es, wenn wir nicht nur auf einzelne Werte, sondern ganze Bereiche einer Matrix zugreifen wollen.\n",
    "Mit `[x:y]` greift man auf die Zeilen $X$ bis einschließlich $y-1$ zu. Der $x$-Wert kann auch weg gelassen werden, `[:2]` liefert z.B. die ersten 2 Zeilen der Matrix"
   ]
  },
  {
   "cell_type": "code",
   "execution_count": null,
   "metadata": {},
   "outputs": [],
   "source": [
    "print(A[:3])"
   ]
  },
  {
   "cell_type": "code",
   "execution_count": null,
   "metadata": {},
   "outputs": [],
   "source": [
    "print(A[1:3])"
   ]
  },
  {
   "cell_type": "markdown",
   "metadata": {},
   "source": [
    "Auf einzelne Spalten der Matrix greift man über den Komma-Operator:"
   ]
  },
  {
   "cell_type": "code",
   "execution_count": null,
   "metadata": {},
   "outputs": [],
   "source": [
    "print(A[:,3])"
   ]
  },
  {
   "cell_type": "markdown",
   "metadata": {},
   "source": [
    "Das ist in etwa so zu verstehen, dass das Komma die einzelnen Dimensionen voneinander abgrenzt.\n",
    "Man nimmt also von der ersten Dimension alle Elemente (angegeben durch das Fehlen vonj Grenzen bei dem `:`-Operator) und von der zweiten Dimension nur die \"dritten\".\n",
    "Das folgende Beispiel liefert von den Elementen der dritten Zeile die Elemente im Bereich der zweiten bis dritten Spalte."
   ]
  },
  {
   "cell_type": "code",
   "execution_count": null,
   "metadata": {},
   "outputs": [],
   "source": [
    "print(A[2,1:3])"
   ]
  },
  {
   "cell_type": "markdown",
   "metadata": {},
   "source": [
    "### Arrays Anlegen"
   ]
  },
  {
   "cell_type": "markdown",
   "metadata": {},
   "source": [
    "Wir haben bereits gesehen, wie man NumPy Arrays mit den Funktionen `array` und `arange` anlegen kann.\n",
    "Es gibt aber noch weitere Methoden, mit denen Arrays angelegt werden können.\n",
    "So kann man z.B. Arrays generieren, die nur aus Nullen oder Einsen bestehen"
   ]
  },
  {
   "cell_type": "code",
   "execution_count": null,
   "metadata": {},
   "outputs": [],
   "source": [
    "np.zeros(9)"
   ]
  },
  {
   "cell_type": "code",
   "execution_count": null,
   "metadata": {},
   "outputs": [],
   "source": [
    "np.ones((4,4))"
   ]
  },
  {
   "cell_type": "markdown",
   "metadata": {},
   "source": [
    "Die Methode `linspace(Start, Ende, Anzahl-Werte)` ist eine Erweiterung von `arange` mit der fortlaufende Folgen von Zahlen generiert werden können. Die Funktion liefert `Anzahl-Werte` Zahlen im Bereich `[Start,Ende]`."
   ]
  },
  {
   "cell_type": "code",
   "execution_count": null,
   "metadata": {},
   "outputs": [],
   "source": [
    "x = np.linspace(-1,1,20)\n",
    "x"
   ]
  },
  {
   "cell_type": "markdown",
   "metadata": {},
   "source": [
    "Die Werte steigen bei `linspace` linear an. Falls Sie eine logarithmische Skalierung benötigen, können Sie die Funktion `logspace` verwenden. Dabei ist darauf zu achten, dass `Start` und `Ende` als Exponenten angenommen werden. `np.logspace(0,2,20)` etwa, generiert 20 Werte im Bereich 1 (10 hoch 0) bis 100 (10 hoch 2)."
   ]
  },
  {
   "cell_type": "code",
   "execution_count": null,
   "metadata": {},
   "outputs": [],
   "source": [
    "start = 0 # 10^0 = 1\n",
    "ende = 2 # 10^2 = 100\n",
    "n = 20\n",
    "\n",
    "np.logspace(0,2,20)"
   ]
  },
  {
   "cell_type": "markdown",
   "metadata": {},
   "source": [
    "Wir haben gesehen, wie wir eindimensionale Arrays generieren können.\n",
    "Oftmals benötigt man aber mehrdimensionale Arrays.\n",
    "NumPy stellt einige Methoden bereit, um die Struktur von Arrays zu verändern.\n",
    "Die Daten selbst, bleiben von diesen Operationen unverändert.\n",
    "\n",
    "Die wichtigsten Funktionen zum Umstrukturieren von Matrizen sind `reshape` und `flatten`."
   ]
  },
  {
   "cell_type": "code",
   "execution_count": null,
   "metadata": {},
   "outputs": [],
   "source": [
    "a = np.arange(20)\n",
    "b = a.reshape((4,5))\n",
    "print(\"b als 4x5 Matrix:\\n\", b)\n",
    "b = b.reshape((5,4))\n",
    "print(\"\\nb als 5x4 Matrix:\\n\", b)"
   ]
  },
  {
   "cell_type": "markdown",
   "metadata": {},
   "source": [
    "Eine Wichtige Operation in der Linearen Algebra ist das Transponieren von Matrizen. Dabei werden die Spalten und Zeilen der Matrix vertauscht. Die Werte in der Matrix bleiben gleich, werden aber in einer umgedrehten Rehenfolge durchlaufen.\n",
    "In NumPy greift man auf die Transponierte Form eines Arrays über das Attribut `T` zu."
   ]
  },
  {
   "cell_type": "code",
   "execution_count": null,
   "metadata": {},
   "outputs": [],
   "source": [
    "b.T"
   ]
  },
  {
   "cell_type": "markdown",
   "metadata": {},
   "source": [
    "Das Umstrukturieren und Transponieren funktioniert auch bei Arrays mit einer Dimension >2 "
   ]
  },
  {
   "cell_type": "code",
   "execution_count": null,
   "metadata": {},
   "outputs": [],
   "source": [
    "a = np.arange(24).reshape((2,3,4))\n",
    "a"
   ]
  },
  {
   "cell_type": "code",
   "execution_count": null,
   "metadata": {},
   "outputs": [],
   "source": [
    "a = a.T\n",
    "a"
   ]
  },
  {
   "cell_type": "markdown",
   "metadata": {},
   "source": [
    "Mit der Methode `flatten` kann man mehrdimensionale Arrys linearisieren."
   ]
  },
  {
   "cell_type": "code",
   "execution_count": null,
   "metadata": {},
   "outputs": [],
   "source": [
    "a.flatten()"
   ]
  },
  {
   "cell_type": "markdown",
   "metadata": {},
   "source": [
    "### Zufallszahlen"
   ]
  },
  {
   "cell_type": "markdown",
   "metadata": {},
   "source": [
    "Zufallszahlen und die Erzeugung von bestimmten Wahrscheinlichkeitsverteilungen ist an vielen Stellen der Mathematik wichtig.\n",
    "Das *Modul* `np.random` liefert Methoden um Zufallswerte und -verteilungen zu generieren.\n",
    "\n",
    "Wie es Ihnen vielleicht aus Sprachen wie C oder Java geläufig ist, köönen Sie auch in Python vor Benutzung des Zufallszahlengenerators mit einem Ausgangswert, dem sogenannten *seed*, initialisieren. Der Zufallszahlengenerator selbst ist  *deterministisch*, d.h., er erzeugt zu einem seed immer die gleiche Folge von Zufallszahlen."
   ]
  },
  {
   "cell_type": "code",
   "execution_count": null,
   "metadata": {},
   "outputs": [],
   "source": [
    "np.random.seed(seed=1)\n",
    "np.random.random(4)"
   ]
  },
  {
   "cell_type": "code",
   "execution_count": null,
   "metadata": {},
   "outputs": [],
   "source": [
    "np.random.random(5)"
   ]
  },
  {
   "cell_type": "code",
   "execution_count": null,
   "metadata": {},
   "outputs": [],
   "source": [
    "np.random.seed(seed=1)\n",
    "np.random.random(5)"
   ]
  },
  {
   "cell_type": "markdown",
   "metadata": {},
   "source": [
    "`random` liefert gleichverteilte Werte im Bereich `[0,1[`.\n",
    "Wenn Sie normalverteilte (also nach der Gaußschen Normalverteilung verteilte) Werte benötigen, können Sie die Funktion `np.random.normal(loc, scale, size)` verwenden. Der Parameter `loc` bezeichnet den Erwartungswert und `scale` die Standardabweichung. Mit `size` können Sie die Anzahl der zu generierenden Werte angeben."
   ]
  },
  {
   "cell_type": "code",
   "execution_count": null,
   "metadata": {},
   "outputs": [],
   "source": [
    "np.random.normal(0.0, 4.0, 10)"
   ]
  },
  {
   "cell_type": "markdown",
   "metadata": {},
   "source": [
    "Über ihre Namen, können Sie in Python auch nur einzelne Parameter angeben. Z.B. funktioniert auch der folgende Aufruf, in dem wir nur die Anzahl der Zahlen in der Funktion `normal` angeben. Für die Standardabweichung und die Varianz werden dann Default-Werte angenommen (0 bzw. 1)."
   ]
  },
  {
   "cell_type": "code",
   "execution_count": null,
   "metadata": {},
   "outputs": [],
   "source": [
    "np.random.normal(size=20)"
   ]
  },
  {
   "cell_type": "markdown",
   "metadata": {},
   "source": [
    "NumPy bietet auch einige elementare statistische Funktionen, z.B. für den Mittelwert (`mean`) oder die Standardabweichung (`std`)."
   ]
  },
  {
   "cell_type": "code",
   "execution_count": null,
   "metadata": {},
   "outputs": [],
   "source": [
    "a = np.random.normal(3,7,10000)\n",
    "print(\"Erwartungswert: \", a.mean())\n",
    "print(\"Standardabweichung: \", a.std())"
   ]
  },
  {
   "cell_type": "markdown",
   "metadata": {},
   "source": [
    "### Operationen\n",
    "\n",
    "Wir haben nun sehr ausführlich betrachtet, wie man Arrays anlegt und mit Werten füllen kann.\n",
    "Was wir bisher ausgelassen haben ist, wie man Operationen mit und auf NumPy Arrays durchführt.\n",
    "Dies wollen wir nun nachholen.\n",
    "\n",
    "Wenn man mit Vektoren und Matrizen rechnet, unterscheidet man Skalar- und Matrix-Operationen.\n",
    "Eine Skalar-Addition mit einem Vektor führt z.B. zu folgendem Resultat:"
   ]
  },
  {
   "cell_type": "code",
   "execution_count": null,
   "metadata": {},
   "outputs": [],
   "source": [
    "np.arange(8) + 10"
   ]
  },
  {
   "cell_type": "markdown",
   "metadata": {},
   "source": [
    "Addieren wir 2 Vektoren, so werden alle Werte an ihrer jeweiligen Stelle miteinander addiert."
   ]
  },
  {
   "cell_type": "code",
   "execution_count": null,
   "metadata": {},
   "outputs": [],
   "source": [
    "np.arange(8) + np.arange(8)"
   ]
  },
  {
   "cell_type": "markdown",
   "metadata": {},
   "source": [
    "Gleiches gilt für die Multiplikation"
   ]
  },
  {
   "cell_type": "code",
   "execution_count": null,
   "metadata": {},
   "outputs": [],
   "source": [
    "np.arange(10) * 5"
   ]
  },
  {
   "cell_type": "code",
   "execution_count": null,
   "metadata": {},
   "outputs": [],
   "source": [
    "np.arange(8) * np.arange(8)"
   ]
  },
  {
   "cell_type": "markdown",
   "metadata": {},
   "source": [
    "Arrays kann man auch mit Skalaren und Arrays vergleichen"
   ]
  },
  {
   "cell_type": "code",
   "execution_count": null,
   "metadata": {},
   "outputs": [],
   "source": [
    "np.arange(8) > 2"
   ]
  },
  {
   "cell_type": "code",
   "execution_count": null,
   "metadata": {},
   "outputs": [],
   "source": [
    "np.arange(8) == (np.arange(8) *2)"
   ]
  },
  {
   "cell_type": "markdown",
   "metadata": {},
   "source": [
    "Das Skalarprodukt (auch inneres Produkt genannt) ist eine eigene Form der Multiplikation zweier Vektoren. Dabei wird die Summe der Produkte aller Komponenten der beiden Vektoren."
   ]
  },
  {
   "cell_type": "code",
   "execution_count": null,
   "metadata": {},
   "outputs": [],
   "source": [
    "a = np.arange(5)\n",
    "print(\"a: \", a)\n",
    "b = np.arange(5)*2\n",
    "print(\"b: \", b)\n",
    "c=a*b\n",
    "print(\"c = a*b: \", c)\n",
    "d=a.dot(b)\n",
    "print(\"d = a.b: \", d)"
   ]
  },
  {
   "cell_type": "markdown",
   "metadata": {},
   "source": [
    "Die Summe aller Elemente eines Arrays bilden Sie mit der Funktion `sum`."
   ]
  },
  {
   "cell_type": "code",
   "execution_count": null,
   "metadata": {},
   "outputs": [],
   "source": [
    "np.arange(8).sum()"
   ]
  },
  {
   "cell_type": "markdown",
   "metadata": {},
   "source": [
    "Darüberhinaus gibt es noch Operationen für Matrizen"
   ]
  },
  {
   "cell_type": "code",
   "execution_count": null,
   "metadata": {},
   "outputs": [],
   "source": [
    "A = np.arange(20).reshape((4,5))\n",
    "B = np.arange(20).reshape((4,5))\n",
    "print(\"A+B:\\n\", A+B)\n",
    "print(\"A∘B:\\n\", A*B)"
   ]
  },
  {
   "cell_type": "markdown",
   "metadata": {},
   "source": [
    "Beachten Sie, dass die Multiplikation mit dem `*`-Operator die elementweise Multiplikation ist. Diese Operation wird auch Hadamard-Produkt oder Schur-Produkt genannt. Bei der elementweisen Multiplikation müssen beide Matrizen dieselbe Struktur besitzen.\n",
    "\n",
    "Unter einer Matrixmultiplikation versteht man eine andere Operation. Zwei Matrizen $A$ und $B$ werden miteinander multipliziert, indem man sämtliche Skalarprodukte der Zeilenvektoren von $A$ mit den Spaltenvektoren von $B$ bildet.\n",
    "Die Spaltenzahl von $A$ muss daher mit der Zeilenzahl von $B$ übereinstimmen."
   ]
  },
  {
   "cell_type": "code",
   "execution_count": null,
   "metadata": {},
   "outputs": [],
   "source": [
    "A = np.arange(20).reshape((4,5))\n",
    "B = np.arange(20).reshape((5,4))\n",
    "print(\"A⋅B:\\n\", A@B)"
   ]
  },
  {
   "cell_type": "markdown",
   "metadata": {},
   "source": [
    "### Warum ist NumPy effizient"
   ]
  },
  {
   "cell_type": "markdown",
   "metadata": {},
   "source": [
    "Im folgenden wollen wir kurz analysieren, warum NumPy-Datentypen für Operationen auf großen Datensätzen besser geeignet sind, als die eingebauten Typen von Python.\n",
    "Wir Vergleichen hier 2 Vektoren $X$ und $Y$: $X$ wird dabei als NumPy Array erzeugt, $Y$ ist ein reguläres Tupel-Objekt. Die Daten/Werte in $X$ und $Y$ sind aber gleich."
   ]
  },
  {
   "cell_type": "code",
   "execution_count": null,
   "metadata": {},
   "outputs": [],
   "source": [
    "import math\n",
    "N = 1000000\n",
    "# X ist ein NumPy Array\n",
    "X = np.linspace(0,N-1,num=N)/N\n",
    "# Y Ist ein Tupel\n",
    "Y = tuple(y/N for y in range(0,N))\n",
    "print(sum(X-Y)) # X und Y sind 'gleich'"
   ]
  },
  {
   "cell_type": "markdown",
   "metadata": {},
   "source": [
    "Dass die unterschiedlichen Datentypen (im Beisiel, Tupel und NumPy Array) sehr unterschiedliche Speicherbedarfe haben, ist nicht ganz leicht nachzuprüfen. Zwar besitzt das Modul sys die Funktion getsizeof, welche auf beliebeige Objekte angewendet werden kann. Wenn man aber getsizeof auf ein Objekt eines Sequentiellen Datentyps anwendet, so werden nur die enthaltenen Objektreferenzen in die Berechnung der Größe miteinbezogen; nicht die referenzierte Objekte selbst. Die folgende Funktion deep_getsizeof analysiert die Größe eines Objekts und exploriert dabei alle enthaltenen Objekte in rekursiever Weise. Damit erhält man den \"echten\" Speicherbedarf eines Objektes."
   ]
  },
  {
   "cell_type": "code",
   "execution_count": null,
   "metadata": {},
   "outputs": [],
   "source": [
    "from sys import getsizeof\n",
    "from collections.abc import Mapping, Container\n",
    "def deep_getsizeof(o, ids=None):\n",
    "    if not ids:\n",
    "        ids = set()\n",
    "                   \n",
    "    d = deep_getsizeof\n",
    "    if id(o) in ids:\n",
    "        return 0\n",
    "\n",
    "    r = getsizeof(o)\n",
    "    ids.add(id(o))\n",
    "\n",
    "    if isinstance(o, str) or isinstance(0, str):\n",
    "        return r\n",
    "\n",
    "    if isinstance(o, Mapping):\n",
    "        return r + sum(d(k, ids) + d(v, ids) for k, v in o.iteritems())\n",
    "\n",
    "    if isinstance(o, Container):\n",
    "        return r + sum(d(x, ids) for x in o)\n",
    "\n",
    "    return r"
   ]
  },
  {
   "cell_type": "code",
   "execution_count": null,
   "metadata": {},
   "outputs": [],
   "source": [
    "sX = deep_getsizeof(X)\n",
    "sY = deep_getsizeof(Y)\n",
    "print(\"NumPy Array X ist %d kByte groß.\" % (sX/1024))\n",
    "print(\"Tupel Y ist %d kByte groß.\" % (sY/1024))"
   ]
  },
  {
   "cell_type": "markdown",
   "metadata": {},
   "source": [
    "Wenn Sie wissen möchten, welche mathematischen Bibliotheken NumPy intern verwendet, können Sie sich die entsprechenden Systempfade mit `np.__config__.show()` ausgeben lassen."
   ]
  },
  {
   "cell_type": "code",
   "execution_count": null,
   "metadata": {},
   "outputs": [],
   "source": [
    "np.__config__.show()"
   ]
  },
  {
   "cell_type": "markdown",
   "metadata": {},
   "source": [
    "### Matplotlib"
   ]
  },
  {
   "cell_type": "markdown",
   "metadata": {},
   "source": [
    "Mit der Matplotlib Bibliothek können in Python mit recht einfachen Mitteln gutaussehende Grafiken erstellt werden. Der Funktionsumfang der Bibliothek ist sehr groß, daher werden wir Sie hier nur anhand einiger Beispiele vorstellen. Für die Darstellung spezieller Graphen gibt es viele Beispiele in der [Matplotlib Galerie](https://matplotlib.org/gallery/index.html).\n",
    "\n",
    "Denken Sie daran, zuerst die Bibliotheksfunktionen einzubindnen."
   ]
  },
  {
   "cell_type": "code",
   "execution_count": null,
   "metadata": {},
   "outputs": [],
   "source": [
    "import numpy as np\n",
    "import matplotlib as mpl\n",
    "import matplotlib.pyplot as plt\n",
    "%matplotlib inline\n",
    "#%matplotlib notebook"
   ]
  },
  {
   "cell_type": "markdown",
   "metadata": {},
   "source": [
    "Die obigen `import` Anweisungen sind _boilerplate code_, also ein Textbaustein, den Sie immer in gleicher Form verwenden, wenn Sie mit _numpy_ und _matplotlib_ arbeiten. Auch die Abkürzungen der Modulnamen haben sich in dieser Form etabliert.\n",
    "\n",
    "`%matplotlib` hingegen ist eine _magic function_ in ipython. Mit diesen Funktionen lassen sich generelle Einstellungen für die interaktive shell vornehmen. Mit dem Parameter `inline` stellt man ein, das die Grafiken im interaktiven Modus direkt unter dem Code dargestellt werden. Die Option `notebook` ist eine erweiterte Variante mit interaktiven Elementen für Python Notebooks."
   ]
  },
  {
   "cell_type": "markdown",
   "metadata": {},
   "source": [
    "Die folgende Code-Zelle zeigt ein einfaches Beispiel, in dem eine Sinus- und eine Cosinus-Funktion mittels NumPy erzeugt und die Graphen der Funktionen mit dem Modul _pyplot_ aus dem Paket matplotlib dargestellt werden."
   ]
  },
  {
   "cell_type": "code",
   "execution_count": null,
   "metadata": {},
   "outputs": [],
   "source": [
    "x = np.linspace(0,2*np.pi)\n",
    "fig = plt.figure()\n",
    "plt.plot(x,np.sin(x),label=\"Sinus\")\n",
    "plt.plot(x,np.cos(x),label=\"Cosinus\")\n",
    "l_sine, l_cos = plt.gca().lines\n",
    "l_cos.set_linewidth(10)\n",
    "plt.legend(loc='lower left')\n",
    "plt.show()"
   ]
  },
  {
   "cell_type": "markdown",
   "metadata": {},
   "source": [
    "Numpy stellt den Dekorator `numpy.vectorize` zur Vektorisierung von Funktionen zur Verfügung. Wird dieser Dekorator auf eine Funktion angewendet, so wird die Funktion zur Laufzeit auf alle Elemente der als Argumente übergebenen NumPy Arrays angewendet. Dieser Dekorator dient nicht unbedingt der Effizienz (intern ist der Dekorator als einfache Schleife über alle Elemente implementiert) erlaubt es aber, Funktionen mit skalaren Parametern auch auf Vektoren anzuwenden.\n",
    "\n",
    "Die in NumPy definierten Vektor-Operationen hingegen sind sehr effizient. Im folgenden Beispiel vergleichen wir die Laufzeit von verschiedenen Implementierungsvarianten anhand der Operation $e^{x_i}*\\sin(y_i)$ auf den Vektoren $X$ und $Y$. $X$ wird dabei als NumPy Array erzeugt, $Y$ ist ein reguläres Tupel-Objekt. Die Daten/Werte in $X$ und $Y$ sind aber gleich."
   ]
  },
  {
   "cell_type": "code",
   "execution_count": null,
   "metadata": {},
   "outputs": [],
   "source": [
    "import math\n",
    "N = 1000000\n",
    "# X ist ein NumPy Array\n",
    "X = np.linspace(0,N-1,num=N)/N\n",
    "# Y Ist ein Tupel\n",
    "Y = tuple(y/N for y in range(0,N))\n",
    "print(sum(X-Y)) # X und Y sind 'gleich'"
   ]
  },
  {
   "cell_type": "markdown",
   "metadata": {},
   "source": [
    "Dass die unterschiedlichen Datentypen (im Beisiel, Tupel und NumPy Array) sehr unterschiedliche Speicherbedarfe haben, ist nicht ganz leicht nachzuprüfen. Zwar besitzt das Modul `sys` die Funktion `getsizeof`, welche auf beliebeige Objekte angewendet werden kann. Wenn man aber `getsizeof` auf ein Objekt eines Sequentiellen Datentyps anwendet, so werden nur die enthaltenen Objektreferenzen in die Berechnung der _Größe_ miteinbezogen; nicht die referenzierte Objekte selbst. Die folgende Funktion `deep_getsizeof` analysiert die Größe eines Objekts und exploriert dabei alle enthaltenen Objekte in rekursiever Weise. Damit erhält man den \"echten\" Speicherbedarf eines Objektes."
   ]
  },
  {
   "cell_type": "code",
   "execution_count": null,
   "metadata": {},
   "outputs": [],
   "source": [
    "from sys import getsizeof\n",
    "from collections import Mapping, Container\n",
    "def deep_getsizeof(o, ids=None):\n",
    "    if not ids:\n",
    "        ids = set()\n",
    "                   \n",
    "    d = deep_getsizeof\n",
    "    if id(o) in ids:\n",
    "        return 0\n",
    "\n",
    "    r = getsizeof(o)\n",
    "    ids.add(id(o))\n",
    "\n",
    "    if isinstance(o, str) or isinstance(0, str):\n",
    "        return r\n",
    "\n",
    "    if isinstance(o, Mapping):\n",
    "        return r + sum(d(k, ids) + d(v, ids) for k, v in o.iteritems())\n",
    "\n",
    "    if isinstance(o, Container):\n",
    "        return r + sum(d(x, ids) for x in o)\n",
    "\n",
    "    return r"
   ]
  },
  {
   "cell_type": "code",
   "execution_count": null,
   "metadata": {},
   "outputs": [],
   "source": [
    "sX = deep_getsizeof(X)\n",
    "sY = deep_getsizeof(Y)\n",
    "print(\"NumPy Array X ist %d kByte groß.\" % (sX/1024))\n",
    "print(\"Tupel Y ist %d kByte groß.\" % (sY/1024))"
   ]
  },
  {
   "cell_type": "code",
   "execution_count": null,
   "metadata": {},
   "outputs": [],
   "source": [
    "@np.vectorize\n",
    "def vect_exp(x,y):\n",
    "    return np.exp(x) * np.sin(y)\n",
    "\n",
    "print(\"Mit List Comprehension:\")\n",
    "%time A = tuple(math.exp(a)*math.sin(a) for a in Y)\n",
    "\n",
    "print(\"\\nMit der map Funktion:\")\n",
    "%time B = tuple(map(lambda a,b: math.exp(a)*math.sin(b), Y, Y))\n",
    "\n",
    "print(\"\\nMit numpy Funktionen:\")\n",
    "%time C = np.exp(X)*np.sin(X)\n",
    "\n",
    "print(\"\\nMit einer vektorisierten Funktion:\")\n",
    "%time D = vect_exp(X,X)\n",
    "\n",
    "print(\"\\nTesten, ob die Arrays gleich sind:\")\n",
    "if sum(B-C)==0.0 and sum(B-D)==0.0:\n",
    "    print(\"OK\")\n",
    "else:\n",
    "    print(\"Der Fehler ist %e\" % max(sum(B-C),sum(B-D)))"
   ]
  },
  {
   "cell_type": "markdown",
   "metadata": {},
   "source": [
    "Matplotlib kann nicht nur Funktionsgraphen zeichnen, sondern bietet eine Fülle von verschiedenen Diagrammtypen. Eine gute Übersicht finden Sie [hier](https://matplotlib.org/gallery.html). Im folgenden Beispiel benutzen wir ein Histogramm um die Verteilung einer Zufallsvariablen darzustellen. Mit dem NumPy Modul _random_ generieren wir uns einen Vektor mit 20000 Einträgen auf Basis der Normal-Verteilung (auch Gauß-Verteilung genannt). Ein Histogramm ist ein Säulendiagramm, das darstellt, wie viele Elemente in einen bestimmten Wertebereich fallen. Der Parameter `bins` gibt an, in wie viele Bereiche die Darstellung aufgeteilt werden soll. Im Beispiel wollen wir also ein Sälendiagramm mit 200 Säulen zeichnen. Man erkennt im Diagramm die typische _Glockenkurve_ mit dem Erwartungswert (hier: 0) in der \"Mitte\"."
   ]
  },
  {
   "cell_type": "code",
   "execution_count": null,
   "metadata": {},
   "outputs": [],
   "source": [
    "fig = plt.figure()\n",
    "N = 20000\n",
    "W = np.random.standard_normal(size=N)\n",
    "plt.hist(W,bins=(N//100))\n",
    "plt.show()"
   ]
  },
  {
   "cell_type": "markdown",
   "metadata": {},
   "source": [
    "Zufallszahlen sind in vielen Bereichen des wissenschaftlichen Rechnens und der angewandten Mathematik (z.B. in der Finanzmathematik) wichtig. Häufig geht es darum, komplexe Prozesse zu simulieren, deren Ausgang von Wahrscheinlichkeiten abhängt.\n",
    "Im nächsten Beispiel, generieren wir wieder Folgen von (normalverteilten) Zufallszahlen. Auf dieser Folge berechnen wir dann mit `numpy.cumsum` die kumulierte Summe (auch [Präfixsumme](https://de.wikipedia.org/wiki/Präfixsumme) genannt). Das bedeutet, wir berechnen für jede Position in der Folge die Summe aller Folgenglieder bis zu dieser Position. Dazu addieren wir noch einen Startwert. Da der Erwartungswert der Normalverteilung Null ist und die einzelnen Elemente der Folge unabhängig sind, ist auch der Erwartungswert der Summe gleich Null.\n",
    "Wir sehen aber im Beispiel, dass sich einige der Zufallsprozesse extremer in positive oder negative Richtung entwickeln."
   ]
  },
  {
   "cell_type": "code",
   "execution_count": null,
   "metadata": {},
   "outputs": [],
   "source": [
    "fig = plt.figure()\n",
    "N = 100\n",
    "Startwert=10\n",
    "Runden=100\n",
    "Mittelwert=0\n",
    "for i in range(0,Runden):\n",
    "    X = np.random.standard_normal(size=N)\n",
    "    X = np.cumsum(X)+Startwert\n",
    "    plt.plot(X)\n",
    "    Mittelwert += np.average(X)\n",
    "Mittelwert /= Runden\n",
    "plt.show()\n",
    "Mittelwert"
   ]
  },
  {
   "cell_type": "markdown",
   "metadata": {},
   "source": [
    "Wenn Sie diese Zufallsprozesse mathematisch etwas erweitern kommen Sie zu Modellen, die heutzutage von Banken und Finanzdienstleistern eingesetzt werden, um Optionspapiere zu bewerten.\n",
    "\n",
    "Auch wenn an dieser Stelle die Details des Beispiels nicht weiter behandelt werden, sehen Sie, dass der Code sehr übersichtlich ist. Das ist sowohl bei der Entwicklung, als auch beim Verstehen von Algorithmen sehr vorteilhaft. Python, mit den Erweiterungen NumPy, SciPy und Matplotlib, hat sich für Ingenieure und Wissenschaftler zu einer echten Alternative zu kommerziellen Tools wie etwa Matlab entwickelt.\n"
   ]
  },
  {
   "cell_type": "code",
   "execution_count": null,
   "metadata": {},
   "outputs": [],
   "source": [
    "fig = plt.figure()\n",
    "Laufzeit = 250\n",
    "Drift = 0.0005\n",
    "Volatilitaet = 0.01\n",
    "Startpreis = 20\n",
    "t = np.linspace(0, Laufzeit-1, Laufzeit)\n",
    "Endpreis = 0\n",
    "Simulationen=200\n",
    "for i in range(0,Simulationen):\n",
    "    # Standard-Wiener-Prozess simuliert durch einen Gaußschen Random Walk\n",
    "    W = np.random.standard_normal(size = Laufzeit)\n",
    "    W = np.cumsum(W)\n",
    "    # # Geometrische Brownsche Bewegung mit Drift\n",
    "    X = (Drift-0.5*Volatilitaet**2)*t + Volatilitaet*W \n",
    "    S = Startpreis*np.exp(X)\n",
    "    plt.plot(t, S)\n",
    "    Endpreis += S[-1]\n",
    "plt.plot(t, [Startpreis]*Laufzeit, lw=3, color='black')\n",
    "plt.show()\n",
    "print(\"Erwarteter Preis: %f\" % (Endpreis/Simulationen))"
   ]
  },
  {
   "cell_type": "markdown",
   "metadata": {},
   "source": [
    "Das Paket **SciPy** liefert eine Reihe weiterer mathematischer Funktionen, die über den Umfang von NumPy hinaus gehen.\n",
    "Ein relativ einfaches Beispiel ist das Ableiten von Funktionen mit der Methode `derivative` aus dem Module `scipy.misc`. Im Beispiel erzeugen wir eine Kubische Funktion $f(x)=x^3+x^2$ und stellen sie dann, zusammen mit ihrer ersten und zweiten Ableitung' mit der _matplotlib_ dar."
   ]
  },
  {
   "cell_type": "code",
   "execution_count": null,
   "metadata": {},
   "outputs": [],
   "source": [
    "import sys\n",
    "!{sys.executable} -m pip install Scipy"
   ]
  },
  {
   "cell_type": "code",
   "execution_count": null,
   "metadata": {},
   "outputs": [],
   "source": [
    "from scipy.misc import derivative\n",
    "def f(x):\n",
    "    return x**3 + x**2\n",
    "\n",
    "fig = plt.figure()\n",
    "X = np.linspace(-3,3)\n",
    "plt.plot(X,f(X),label=\"f\",lw=3)\n",
    "plt.plot(X,derivative(f,X),label=\"f'\")\n",
    "plt.plot(X,derivative(f,X,n=2),label=\"f''\")\n",
    "plt.legend(loc='best',fontsize='large')\n",
    "plt.show()"
   ]
  },
  {
   "cell_type": "markdown",
   "metadata": {},
   "source": [
    "### Interaktion"
   ]
  },
  {
   "cell_type": "markdown",
   "metadata": {},
   "source": [
    "Das die Plots direkt im Jupyter Notebook erscheinen ist sehr praktisch.\n",
    "So können Sie Ihre Daten analysieren und direkt in nächsten Code-Zelle weiter bearbeiten.\n",
    " \n",
    "Jupyter bietet aber noch mehr Möglichkeiten, um auf Ausgaben einzuwirken.\n",
    "Für IPython kibt es Zusatzmodule, die interaktive Widgets im Browser bereitstellen.\n",
    "Mit diesen Widgets kann man den Code-Zellen Bedienelemente hinzufügen, mit denen der Code interaktiv gesteuert werden kann.\n",
    "\n",
    "Ein recht einfaches Bedienelement ist ein Schieberegler, mit sich ein skalarer Parameter einstellen lässt.\n",
    "Ein solcher Slider lässt sich mit der Methode `interact` aus dem Modul `ipywidgets.widgets` leicht umsetzen.\n",
    "`interact` ist dabei recht flexibel.\n",
    "Falls der Parameter kein Skalar, sonder ein Boolean ist, wird eine Chackbox dargestellt.\n",
    "Bei einem String entsprechend ein Eingabefeld.\n",
    "\n",
    "Die Methode verlangt als erstes Argument eine Funktionsreferenz, danach folgen die einzustellenden Parameter der Funktion."
   ]
  },
  {
   "cell_type": "code",
   "execution_count": null,
   "metadata": {},
   "outputs": [],
   "source": [
    "import webbrowser\n",
    "url = 'https://jupyter-tutorial.readthedocs.io/de/latest/workspace/jupyter/ipywidgets/examples.html'\n",
    "webbrowser.open(url)"
   ]
  },
  {
   "cell_type": "code",
   "execution_count": null,
   "metadata": {},
   "outputs": [],
   "source": [
    "from ipywidgets.widgets import interact, interactive, fixed\n",
    "from ipywidgets import widgets\n",
    "def f(x):\n",
    "    print(x)\n",
    "    \n",
    "interact(f, x=10)"
   ]
  },
  {
   "cell_type": "markdown",
   "metadata": {},
   "source": [
    "`interact` kann übrigens auch als Dekorator verwendet werden:"
   ]
  },
  {
   "cell_type": "code",
   "execution_count": null,
   "metadata": {},
   "outputs": [],
   "source": [
    "@interact\n",
    "def f(x=10):\n",
    "    print(x)"
   ]
  },
  {
   "cell_type": "markdown",
   "metadata": {},
   "source": [
    "In der folgenden Code-Zelle greifen wir das Beispiel mit der Ableitung von oben nochmal auf.\n",
    "Statt einer festen Funktion $f(x)=x^3+x^2$ nehmen wir hier eine allgemeine Polynomfunktion $f(x)=ax^3+bx^2+cx+d$ an.\n",
    "Die Parameter $a$ bis $d$ werden über einzelne Regler interaktiv bedienbar gemacht."
   ]
  },
  {
   "cell_type": "code",
   "execution_count": null,
   "metadata": {},
   "outputs": [],
   "source": [
    "from scipy.misc import derivative\n",
    "\n",
    "def g(a,b,c,d):\n",
    "    def foo(x):\n",
    "        return a*x**3 + b*x**2 + c*x +d\n",
    "    return foo\n",
    "\n",
    "def plotte_funktionen(a,b,c,d):\n",
    "    fig = plt.figure()\n",
    "    X = np.linspace(-3,3)\n",
    "    f = g(a,b,c,d)\n",
    "    plt.plot(X,f(X),label=\"f\",lw=3)\n",
    "    plt.plot(X,derivative(f,X),label=\"f'\")\n",
    "    plt.plot(X,derivative(f,X,n=2),label=\"f''\")\n",
    "    plt.legend(loc='best',fontsize='large')\n",
    "    plt.draw()\n",
    "\n",
    "interact(plotte_funktionen, a=1.0, b=1.0, c=1.0, d=1.0)    \n"
   ]
  },
  {
   "cell_type": "markdown",
   "metadata": {},
   "source": [
    "In einem abschließenden Beispiel geht es nochmal um Matrix-Berechnungen mit NumPy.\n",
    "Wir wollen Bilder bearbeiten und mit matplotlib anzeigen. Hierzu laden wir zuerst das Graustufen Bild aus dem Beispiel in [Abschnit 3](#3.-Web-Zugriffe-mit-der-Requests-Bibliothek) als Instanz `img`. Im zweiten Schritt formen wir das Graustufenbild in ein RGB-Format um, indem wir aus dem Grauwert eines Pixels ein Array mit 3 identischen Werten generieren (hierzu benutzen wir die `stack`Funktion)."
   ]
  },
  {
   "cell_type": "code",
   "execution_count": null,
   "metadata": {},
   "outputs": [],
   "source": [
    "import matplotlib.pyplot as plt\n",
    "import matplotlib.image as mpimg\n",
    "import numpy as np\n",
    "%matplotlib inline\n",
    "\n",
    "img=mpimg.imread('image.png')\n",
    "#Mache aus dem Graustufenbild ein RGB Bild\n",
    "#Dazu muss der \"Grau-Kanal\" verdreifacht werden\n",
    "#(in Form eines 3-Tupels):\n",
    "rgb_img = np.stack((img,)*3, axis=-1)\n",
    "imgplot = plt.imshow(rgb_img)"
   ]
  },
  {
   "cell_type": "markdown",
   "metadata": {},
   "source": [
    "Nun können wir z.B. die Farbgebung der Bilder verändern, indem wir einzelnen Farbkanäle im additiven RGB (Rot-Grün-Blau) Farbraum, auf Null setzen:\n",
    "\n",
    "<!-- ![](https://upload.wikimedia.org/wikipedia/commons/2/28/RGB_illumination.jpg) -->"
   ]
  },
  {
   "cell_type": "code",
   "execution_count": null,
   "metadata": {},
   "outputs": [],
   "source": [
    "rg_img = np.copy(rgb_img)\n",
    "#Blau-Kanal auf Null -> Gelb\n",
    "rg_img[:,:,2] = 0\n",
    "rb_img = np.copy(rgb_img)\n",
    "#Grün-Kanal auf Null -> Violett\n",
    "rb_img[:,:,1] = 0\n",
    "gb_img = np.copy(rgb_img)\n",
    "#Rot-Kanal auf Null -> Türkis\n",
    "gb_img[:,:,0] = 0\n",
    "\n",
    "plt.figure()\n",
    "plt.subplot(131)\n",
    "plt.imshow(rg_img)\n",
    "plt.gca().axes.get_xaxis().set_visible(False)\n",
    "plt.gca().axes.get_yaxis().set_visible(False)\n",
    "\n",
    "plt.subplot(132)\n",
    "plt.imshow(rb_img)\n",
    "plt.gca().axes.get_xaxis().set_visible(False)\n",
    "plt.gca().axes.get_yaxis().set_visible(False)\n",
    "\n",
    "plt.subplot(133)\n",
    "plt.imshow(gb_img)\n",
    "plt.gca().axes.get_xaxis().set_visible(False)\n",
    "plt.gca().axes.get_yaxis().set_visible(False)"
   ]
  },
  {
   "cell_type": "markdown",
   "metadata": {},
   "source": [
    "**Erzeugen Sie ein neues Bild, indem Sie Bereiche (horizontale \"Streifen\") aus den Arrays `rg_img`, `rb_img` und `gb_img` selektieren und zu einem neuen Bild zusammenfügen.**"
   ]
  },
  {
   "cell_type": "code",
   "execution_count": null,
   "metadata": {},
   "outputs": [],
   "source": []
  },
  {
   "cell_type": "markdown",
   "metadata": {},
   "source": [
    "## 6. Grafische Benutzeroberflächen mit Tkinter\n",
    "**Tkinter wird auf den Seiten 791-839 im Lehrbuch behandelt.**\n",
    "\n",
    "Für Python existieren mehrere Toolkits zur Programmierung grafischer Oberflächen. Im Lehrbuch finden Sie auf den Seiten 791-793 eine gute Übersicht dazu.\n",
    "In der Standardbibliothek enthalten ist das Paket Tkinter, das eine objektorientierte Schnittstelle für Tk-Anwendungen bereitstellt. Tk ist ein GUI-Toolkit das ursprünglich für die Skriptsprache _Tcl_ entworfen wurde. \n",
    "\n",
    "Die Programmierung graphischer Benutzerschnittstellen ist ein komplexes Thema, das weit über den Umfang dieser Veranstaltung hinausgeht. Daher wird an dieser Stelle nur ein Minimalbeispiel kommentarlos vorgestellt."
   ]
  },
  {
   "cell_type": "code",
   "execution_count": null,
   "metadata": {},
   "outputs": [],
   "source": [
    "import tkinter\n",
    "class CtoF(tkinter.Frame):\n",
    "    def __init__(self, master=None):\n",
    "        super().__init__(master)\n",
    "        self.pack()\n",
    "        self.createWidgets()\n",
    "    def createWidgets(self):\n",
    "        self.celEntry = tkinter.Entry(self)\n",
    "        self.celEntry.pack()\n",
    "        self.cel = tkinter.DoubleVar()\n",
    "        self.cel.set(\"Temperatur in Celsius\")\n",
    "        self.celEntry[\"textvariable\"] = self.cel\n",
    "        self.ok = tkinter.Button(self)\n",
    "        self.ok[\"text\"] = \"Schließen\"\n",
    "        self.ok[\"command\"] = self.quit\n",
    "        self.ok.pack(side=\"right\")\n",
    "        self.conv = tkinter.Button(self)\n",
    "        self.conv[\"text\"] = \"Umrechnen\"\n",
    "        self.conv[\"command\"] = self.convert\n",
    "        self.conv.pack(side=\"right\")\n",
    "    def convert(self):\n",
    "        self.cel.set(self.cel.get()*1.8+32)"
   ]
  },
  {
   "cell_type": "code",
   "execution_count": null,
   "metadata": {},
   "outputs": [],
   "source": [
    "root = tkinter.Tk()\n",
    "app = CtoF(root)\n",
    "app.mainloop()"
   ]
  },
  {
   "cell_type": "markdown",
   "metadata": {},
   "source": [
    "**Schreiben Sie ein GUI-Anwendung mit Tkinter, die in einem Textfeld einen String erwartet. Fügen Sie einen Button hinzu der bewirkt, dass der String im Text umgedreht erscheint.**"
   ]
  },
  {
   "cell_type": "code",
   "execution_count": null,
   "metadata": {},
   "outputs": [],
   "source": []
  }
 ],
 "metadata": {
  "kernelspec": {
   "display_name": "Python 3",
   "language": "python",
   "name": "python3"
  },
  "language_info": {
   "codemirror_mode": {
    "name": "ipython",
    "version": 3
   },
   "file_extension": ".py",
   "mimetype": "text/x-python",
   "name": "python",
   "nbconvert_exporter": "python",
   "pygments_lexer": "ipython3",
   "version": "3.7.6"
  }
 },
 "nbformat": 4,
 "nbformat_minor": 2
}
